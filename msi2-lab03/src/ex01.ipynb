{
 "cells": [
  {
   "metadata": {},
   "cell_type": "markdown",
   "source": "#### 1. Liniowa klasyfikacja SVM",
   "id": "d521279930fd815d"
  },
  {
   "metadata": {},
   "cell_type": "code",
   "source": [
    "import matplotlib.pyplot as plt\n",
    "import numpy as np\n",
    "from sklearn import datasets\n",
    "from sklearn.svm import SVC"
   ],
   "id": "ce8b82c0a3a57c62",
   "outputs": [],
   "execution_count": null
  },
  {
   "metadata": {},
   "cell_type": "code",
   "source": [
    "plt.rc('font', size=14)\n",
    "plt.rc('axes', labelsize=14, titlesize=14)\n",
    "plt.rc('legend', fontsize=14)\n",
    "plt.rc('xtick', labelsize=10)\n",
    "plt.rc('ytick', labelsize=10)"
   ],
   "id": "52361e41ac873d2f",
   "outputs": [],
   "execution_count": null
  },
  {
   "metadata": {},
   "cell_type": "code",
   "source": [
    "def plot_svc_decision_boundary(a_svm_clf, x_min, x_max):\n",
    "    w = a_svm_clf.coef_[0]\n",
    "    b = a_svm_clf.intercept_[0]\n",
    "\n",
    "    # At the decision boundary, w0*x0 + w1*x1 + b = 0 => x1 = -w0/w1 * x0 - b/w1\n",
    "    l_x0 = np.linspace(x_min, x_max, 200)\n",
    "    decision_boundary = -w[0] / w[1] * l_x0 - b / w[1]\n",
    "\n",
    "    margin = 1 / w[1]\n",
    "    gutter_up = decision_boundary + margin\n",
    "    gutter_down = decision_boundary - margin\n",
    "    svs = a_svm_clf.support_vectors_\n",
    "\n",
    "    plt.plot(l_x0, decision_boundary, \"k-\", linewidth=2, zorder=-2)\n",
    "    plt.plot(l_x0, gutter_up, \"k--\", linewidth=2, zorder=-2)\n",
    "    plt.plot(l_x0, gutter_down, \"k--\", linewidth=2, zorder=-2)\n",
    "    plt.scatter(svs[:, 0], svs[:, 1], s=180, facecolors='#AAA',\n",
    "                zorder=-1)"
   ],
   "id": "d1271c71ece65502",
   "outputs": [],
   "execution_count": null
  },
  {
   "metadata": {},
   "cell_type": "code",
   "source": [
    "iris = datasets.load_iris(as_frame=True)\n",
    "X = iris.data[[\"petal length (cm)\", \"petal width (cm)\"]].values\n",
    "y = iris.target\n",
    "\n",
    "setosa_or_versicolor = (y == 0) | (y == 1)\n",
    "X = X[setosa_or_versicolor]\n",
    "y = y[setosa_or_versicolor]"
   ],
   "id": "56f7b3895c5d8586",
   "outputs": [],
   "execution_count": null
  },
  {
   "metadata": {},
   "cell_type": "code",
   "source": [
    "svm_clf = SVC(kernel=\"linear\", C=float(\"inf\"))\n",
    "svm_clf.fit(X, y)\n",
    "\n",
    "# Bad models\n",
    "x0 = np.linspace(0, 5.5, 200)\n",
    "pred_1 = 5 * x0 - 20\n",
    "pred_2 = x0 - 1.8\n",
    "pred_3 = 0.1 * x0 + 0.5"
   ],
   "id": "fc1b7e18a9509166",
   "outputs": [],
   "execution_count": null
  },
  {
   "metadata": {},
   "cell_type": "code",
   "source": [
    "fig, axes = plt.subplots(ncols=2, figsize=(10, 2.7), sharey=True)\n",
    "\n",
    "plt.sca(axes[0])\n",
    "plt.plot(x0, pred_1, \"g--\", linewidth=2)\n",
    "plt.plot(x0, pred_2, \"m-\", linewidth=2)\n",
    "plt.plot(x0, pred_3, \"r-\", linewidth=2)\n",
    "plt.plot(X[:, 0][y == 1], X[:, 1][y == 1], \"bs\", label=\"Iris versicolor\")\n",
    "plt.plot(X[:, 0][y == 0], X[:, 1][y == 0], \"yo\", label=\"Iris setosa\")\n",
    "plt.xlabel(\"Długość płatka\")\n",
    "plt.ylabel(\"Szerokość płatka\")\n",
    "plt.legend(loc=\"upper left\")\n",
    "plt.axis((0, 5.5, 0, 2))\n",
    "plt.gca().set_aspect(\"equal\")\n",
    "plt.grid()\n",
    "\n",
    "plt.sca(axes[1])\n",
    "plot_svc_decision_boundary(svm_clf, 0, 5.5)\n",
    "plt.plot(X[:, 0][y == 1], X[:, 1][y == 1], \"bs\")\n",
    "plt.plot(X[:, 0][y == 0], X[:, 1][y == 0], \"yo\")\n",
    "plt.xlabel(\"Długość płatka\")\n",
    "plt.axis((0, 5.5, 0, 2))\n",
    "plt.gca().set_aspect(\"equal\")\n",
    "plt.grid()\n",
    "\n",
    "plt.show()"
   ],
   "id": "d091d32999ad6a51",
   "outputs": [],
   "execution_count": null
  },
  {
   "metadata": {},
   "cell_type": "code",
   "source": [
    "from sklearn.preprocessing import StandardScaler\n",
    "\n",
    "Xs = np.array([[1, 50], [5, 20], [3, 80], [5, 60]]).astype(np.float64)\n",
    "ys = np.array([0, 0, 1, 1])\n",
    "svm_clf = SVC(kernel=\"linear\", C=100).fit(Xs, ys)"
   ],
   "id": "87bb6c29965e186d",
   "outputs": [],
   "execution_count": null
  },
  {
   "metadata": {},
   "cell_type": "code",
   "source": [
    "scaler = StandardScaler()\n",
    "X_scaled = scaler.fit_transform(Xs)\n",
    "svm_clf_scaled = SVC(kernel=\"linear\", C=100).fit(X_scaled, ys)"
   ],
   "id": "4ce58130329a0b56",
   "outputs": [],
   "execution_count": null
  },
  {
   "metadata": {},
   "cell_type": "code",
   "source": [
    "plt.figure(figsize=(9, 2.7))\n",
    "plt.subplot(121)\n",
    "plt.plot(Xs[:, 0][ys == 1], Xs[:, 1][ys == 1], \"bo\")\n",
    "plt.plot(Xs[:, 0][ys == 0], Xs[:, 1][ys == 0], \"ms\")\n",
    "plot_svc_decision_boundary(svm_clf, 0, 6)\n",
    "plt.xlabel(\"$x_0$\")\n",
    "plt.ylabel(\"$x_1$\", rotation=0)\n",
    "plt.title(\"Nieskalowane\")\n",
    "plt.axis((0, 6, 0, 90))\n",
    "plt.grid()\n",
    "\n",
    "plt.subplot(122)\n",
    "plt.plot(X_scaled[:, 0][ys == 1], X_scaled[:, 1][ys == 1], \"bo\")\n",
    "plt.plot(X_scaled[:, 0][ys == 0], X_scaled[:, 1][ys == 0], \"ms\")\n",
    "plot_svc_decision_boundary(svm_clf_scaled, -2, 2)\n",
    "plt.xlabel(\"$x'_0$\")\n",
    "plt.ylabel(\"$x'_1$  \", rotation=0)\n",
    "plt.title(\"Skalowane\")\n",
    "plt.axis((-2, 2, -2, 2))\n",
    "plt.grid()\n",
    "\n",
    "plt.show()"
   ],
   "id": "c6cede980dc99d75",
   "outputs": [],
   "execution_count": null
  },
  {
   "metadata": {},
   "cell_type": "markdown",
   "source": "#### 2. Klasyfikacja \"miękko-marginesowa\"",
   "id": "5eac2d01d04d6f85"
  },
  {
   "metadata": {},
   "cell_type": "code",
   "source": [
    "X_outliers = np.array([[3.4, 1.3], [3.2, 0.8]])\n",
    "y_outliers = np.array([0, 0])\n",
    "Xo1 = np.concatenate([X, X_outliers[:1]], axis=0)\n",
    "yo1 = np.concatenate([y, y_outliers[:1]], axis=0)\n",
    "Xo2 = np.concatenate([X, X_outliers[1:]], axis=0)\n",
    "yo2 = np.concatenate([y, y_outliers[1:]], axis=0)"
   ],
   "id": "3674aa1b9a356145",
   "outputs": [],
   "execution_count": null
  },
  {
   "metadata": {},
   "cell_type": "code",
   "source": [
    "svm_clf2 = SVC(kernel=\"linear\", C=10 ** 9)\n",
    "svm_clf2.fit(Xo2, yo2);"
   ],
   "id": "424b74eb4b6b10b3",
   "outputs": [],
   "execution_count": null
  },
  {
   "metadata": {},
   "cell_type": "code",
   "source": [
    "_, axes = plt.subplots(ncols=2, figsize=(10, 2.7), sharey=True)\n",
    "\n",
    "plt.sca(axes[0])\n",
    "plt.plot(Xo1[:, 0][yo1 == 1], Xo1[:, 1][yo1 == 1], \"bs\")\n",
    "plt.plot(Xo1[:, 0][yo1 == 0], Xo1[:, 1][yo1 == 0], \"yo\")\n",
    "plt.xlabel(\"Długość płatka\")\n",
    "plt.ylabel(\"Szerokość płatka\")\n",
    "plt.annotate(\n",
    "    \"Element odstający\",\n",
    "    xy=(X_outliers[0][0], X_outliers[0][1]),\n",
    "    xytext=(2.5, 1.7),\n",
    "    ha=\"center\",\n",
    "    arrowprops=dict(facecolor='black', shrink=0.1),\n",
    ")\n",
    "plt.axis((0, 5.5, 0, 2))\n",
    "plt.grid()\n",
    "\n",
    "plt.sca(axes[1])\n",
    "plt.plot(Xo2[:, 0][yo2 == 1], Xo2[:, 1][yo2 == 1], \"bs\")\n",
    "plt.plot(Xo2[:, 0][yo2 == 0], Xo2[:, 1][yo2 == 0], \"yo\")\n",
    "plot_svc_decision_boundary(svm_clf2, 0, 5.5)\n",
    "plt.xlabel(\"Długość płatka\")\n",
    "plt.annotate(\n",
    "    \"Element odstający\",\n",
    "    xy=(X_outliers[1][0], X_outliers[1][1]),\n",
    "    xytext=(3.2, 0.08),\n",
    "    ha=\"center\",\n",
    "    arrowprops=dict(facecolor='black', shrink=0.1),\n",
    ")\n",
    "plt.axis((0, 5.5, 0, 2))\n",
    "plt.grid()\n",
    "plt.show()\n"
   ],
   "id": "3a37a48bf11b680b",
   "outputs": [],
   "execution_count": null
  },
  {
   "metadata": {},
   "cell_type": "code",
   "source": [
    "from sklearn.datasets import load_iris\n",
    "from sklearn.pipeline import make_pipeline\n",
    "from sklearn.preprocessing import StandardScaler\n",
    "from sklearn.svm import LinearSVC\n",
    "\n",
    "iris = load_iris(as_frame=True)\n",
    "X = iris.data[[\"petal length (cm)\", \"petal width (cm)\"]].values\n",
    "y = (iris.target == 2)  # Iris virginica\n",
    "\n",
    "svm_clf = make_pipeline(StandardScaler(),\n",
    "                        LinearSVC(C=1, random_state=42))\n",
    "svm_clf.fit(X, y);"
   ],
   "id": "7ab53d0c2671b18a",
   "outputs": [],
   "execution_count": null
  },
  {
   "metadata": {},
   "cell_type": "code",
   "source": [
    "X_new = [[5.5, 1.7], [5.0, 1.5]]\n",
    "svm_clf.predict(X_new)"
   ],
   "id": "fe98cda6d3245926",
   "outputs": [],
   "execution_count": null
  },
  {
   "metadata": {},
   "cell_type": "code",
   "source": "svm_clf.decision_function(X_new)",
   "id": "88820a502cd12edd",
   "outputs": [],
   "execution_count": null
  },
  {
   "metadata": {},
   "cell_type": "code",
   "source": [
    "scaler = StandardScaler()\n",
    "svm_clf1 = LinearSVC(C=1, max_iter=10_000, random_state=42)\n",
    "svm_clf2 = LinearSVC(C=100, max_iter=10_000, random_state=42)\n",
    "\n",
    "scaled_svm_clf1 = make_pipeline(scaler, svm_clf1)\n",
    "scaled_svm_clf2 = make_pipeline(scaler, svm_clf2)\n",
    "\n",
    "scaled_svm_clf1.fit(X, y)\n",
    "scaled_svm_clf2.fit(X, y)\n",
    "\n",
    "b1 = svm_clf1.decision_function([-scaler.mean_ / scaler.scale_])\n",
    "b2 = svm_clf2.decision_function([-scaler.mean_ / scaler.scale_])\n",
    "w1 = svm_clf1.coef_[0] / scaler.scale_\n",
    "w2 = svm_clf2.coef_[0] / scaler.scale_\n",
    "svm_clf1.intercept_ = np.array([b1])\n",
    "svm_clf2.intercept_ = np.array([b2])\n",
    "svm_clf1.coef_ = np.array([w1])\n",
    "svm_clf2.coef_ = np.array([w2])\n",
    "\n",
    "t = y * 2 - 1\n",
    "support_vectors_idx1 = (t * (X.dot(w1) + b1) < 1).to_numpy()\n",
    "support_vectors_idx2 = (t * (X.dot(w2) + b2) < 1).to_numpy()\n",
    "svm_clf1.support_vectors_ = X[support_vectors_idx1]\n",
    "svm_clf2.support_vectors_ = X[support_vectors_idx2]"
   ],
   "id": "89da48f0bf3fa87d",
   "outputs": [],
   "execution_count": null
  },
  {
   "metadata": {},
   "cell_type": "code",
   "source": [
    "_, axes = plt.subplots(ncols=2, figsize=(10, 2.7), sharey=True)\n",
    "\n",
    "plt.sca(axes[0])\n",
    "plt.plot(X[:, 0][y == 1], X[:, 1][y == 1], \"g^\", label=\"Iris virginica\")\n",
    "plt.plot(X[:, 0][y == 0], X[:, 1][y == 0], \"bs\", label=\"Iris versicolor\")\n",
    "plot_svc_decision_boundary(svm_clf1, 4, 5.9)\n",
    "plt.xlabel(\"Długość płatka\")\n",
    "plt.ylabel(\"Szerokość płatka\")\n",
    "plt.legend(loc=\"upper left\")\n",
    "plt.title(f\"$C = {svm_clf1.C}$\")\n",
    "plt.axis((4, 5.9, 0.8, 2.8))\n",
    "plt.grid()\n",
    "\n",
    "plt.sca(axes[1])\n",
    "plt.plot(X[:, 0][y == 1], X[:, 1][y == 1], \"g^\")\n",
    "plt.plot(X[:, 0][y == 0], X[:, 1][y == 0], \"bs\")\n",
    "plot_svc_decision_boundary(svm_clf2, 4, 5.99)\n",
    "plt.xlabel(\"Długość płatka\")\n",
    "plt.title(f\"$C = {svm_clf2.C}$\")\n",
    "plt.axis((4, 5.9, 0.8, 2.8))\n",
    "plt.grid()\n",
    "\n",
    "plt.show()"
   ],
   "id": "63bc2a54255e048d",
   "outputs": [],
   "execution_count": null
  }
 ],
 "metadata": {
  "kernelspec": {
   "name": "python3",
   "language": "python",
   "display_name": "Python 3 (ipykernel)"
  }
 },
 "nbformat": 5,
 "nbformat_minor": 9
}
