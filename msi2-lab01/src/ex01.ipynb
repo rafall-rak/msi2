{
 "cells": [
  {
   "cell_type": "code",
   "execution_count": 42,
   "id": "initial_id",
   "metadata": {},
   "outputs": [],
   "source": [
    "import math\n",
    "import numpy as np\n",
    "import matplotlib.pyplot as plt\n",
    "from scipy.optimize import minimize"
   ]
  },
  {
   "cell_type": "markdown",
   "id": "d350d35caa5a4ea",
   "metadata": {},
   "source": [
    "#### Test functions"
   ]
  },
  {
   "cell_type": "code",
   "execution_count": 3,
   "id": "f3894b92fd428b49",
   "metadata": {},
   "outputs": [],
   "source": [
    "def sum_of_sqrs(xs: np.ndarray):\n",
    "    return np.sum(xs ** 2)"
   ]
  },
  {
   "cell_type": "code",
   "execution_count": 4,
   "id": "7c6fdb4c87f236ac",
   "metadata": {},
   "outputs": [],
   "source": [
    "def ackley_fn(xs: np.ndarray) -> float:\n",
    "    \"\"\"\n",
    "    The Ackley function is a widely used test problem for optimization\n",
    "    algorithms. It is a multimodal function with:\n",
    "     - a single global minimum, x_global = (0, 0, ..., 0) with a value of 0.0\n",
    "     - many local minima.\n",
    "\n",
    "    The function takes a numpy array of length d as an argument and\n",
    "    returns the value of the function at the given point.\n",
    "    \"\"\"\n",
    "    a = 20\n",
    "    b = 0.2\n",
    "    c = 2 * np.pi\n",
    "    d = len(xs)\n",
    "\n",
    "    s1 = np.sum(xs ** 2)\n",
    "    s2 = np.sum(np.cos(c * xs))\n",
    "\n",
    "    t1 = -a * np.exp(-b * np.sqrt(s1 / d))\n",
    "    t2 = -np.exp(s2 / d)\n",
    "\n",
    "    return t1 + t2 + a + np.e"
   ]
  },
  {
   "cell_type": "markdown",
   "id": "2d21f30aca77808b",
   "metadata": {},
   "source": [
    "#### Numerical experiments"
   ]
  },
  {
   "cell_type": "code",
   "execution_count": 5,
   "id": "2a813d59beb40804",
   "metadata": {},
   "outputs": [],
   "source": [
    "np.random.seed(123)"
   ]
  },
  {
   "cell_type": "markdown",
   "id": "149de132ef3231",
   "metadata": {},
   "source": [
    "a) sum_of_sqrs"
   ]
  },
  {
   "cell_type": "code",
   "execution_count": 6,
   "id": "39f97d842126ccce",
   "metadata": {},
   "outputs": [
    {
     "data": {
      "text/plain": [
       "array([3.48234593, 1.43069667])"
      ]
     },
     "execution_count": 6,
     "metadata": {},
     "output_type": "execute_result"
    }
   ],
   "source": [
    "x01 = np.random.rand(2) * 5\n",
    "x01"
   ]
  },
  {
   "cell_type": "code",
   "execution_count": 7,
   "id": "2a96cf52051a876d",
   "metadata": {},
   "outputs": [
    {
     "name": "stdout",
     "output_type": "stream",
     "text": [
      "  message: Optimization terminated successfully.\n",
      "  success: True\n",
      "   status: 0\n",
      "      fun: 6.291181325393998e-14\n",
      "        x: [-1.029e-07  2.288e-07]\n",
      "      nit: 3\n",
      "      jac: [-1.908e-07  4.724e-07]\n",
      " hess_inv: [[ 5.722e-01 -1.758e-01]\n",
      "            [-1.758e-01  9.278e-01]]\n",
      "     nfev: 12\n",
      "     njev: 4\n"
     ]
    }
   ],
   "source": [
    "res = minimize(sum_of_sqrs, x01)\n",
    "print(res)"
   ]
  },
  {
   "cell_type": "markdown",
   "id": "6a328a20fd7d00a",
   "metadata": {},
   "source": [
    "b) Ackley"
   ]
  },
  {
   "cell_type": "code",
   "execution_count": 8,
   "id": "13bb1e99671364fe",
   "metadata": {},
   "outputs": [],
   "source": [
    "x02 = np.random.rand(2) * 5"
   ]
  },
  {
   "cell_type": "code",
   "execution_count": 9,
   "id": "776a928fc0b743b",
   "metadata": {},
   "outputs": [
    {
     "name": "stdout",
     "output_type": "stream",
     "text": [
      "  message: Optimization terminated successfully.\n",
      "  success: True\n",
      "   status: 0\n",
      "      fun: 7.180951647715368\n",
      "        x: [ 9.892e-01  2.967e+00]\n",
      "      nit: 8\n",
      "      jac: [ 4.768e-07  5.624e-07]\n",
      " hess_inv: [[ 1.881e-02  3.523e-04]\n",
      "            [ 3.523e-04  2.015e-02]]\n",
      "     nfev: 33\n",
      "     njev: 11\n"
     ]
    }
   ],
   "source": [
    "res = minimize(ackley_fn, x02, method=\"BFGS\", jac=\"2-point\")\n",
    "print(res)"
   ]
  },
  {
   "cell_type": "markdown",
   "id": "ddfa3e8f-f5f6-410c-bbe9-7adba92afecf",
   "metadata": {},
   "source": [
    "c) Ackley multistart"
   ]
  },
  {
   "cell_type": "code",
   "execution_count": 66,
   "id": "0b56b580-3a41-4b56-a593-aad4e311f6ef",
   "metadata": {},
   "outputs": [],
   "source": [
    "STEPS = 10000"
   ]
  },
  {
   "cell_type": "code",
   "execution_count": 70,
   "id": "05388324-e3da-4e94-9614-90c16ac2cf92",
   "metadata": {},
   "outputs": [],
   "source": [
    "best_res = None\n",
    "best_fun = math.inf\n",
    "\n",
    "y = np.array([], dtype=float)\n",
    "x = np.array(range(STEPS))\n",
    "for _ in x:\n",
    "    x02 = np.random.rand(2) * 5\n",
    "    res = minimize(ackley_fn, x02, method=\"BFGS\", jac=\"2-point\")\n",
    "    if(res.fun < best_fun):\n",
    "        best_res = res\n",
    "        best_fun = best_res.fun\n",
    "    y = np.append(y, best_res.fun)"
   ]
  },
  {
   "cell_type": "code",
   "execution_count": 71,
   "id": "2ce3fa06-dfdf-407f-be29-232a5a9cfffc",
   "metadata": {},
   "outputs": [
    {
     "data": {
      "text/plain": [
       "Text(0.5, 0, 'Iterations')"
      ]
     },
     "execution_count": 71,
     "metadata": {},
     "output_type": "execute_result"
    },
    {
     "data": {
      "image/png": "[encoded data removed]",
      "text/plain": [
       "<Figure size 640x480 with 1 Axes>"
      ]
     },
     "metadata": {},
     "output_type": "display_data"
    }
   ],
   "source": [
    "plt.plot(x, y, '-')\n",
    "plt.yscale('log')\n",
    "plt.grid(True, axis='y')\n",
    "plt.ylabel('fun')\n",
    "plt.xlabel('Iterations')"
   ]
  },
  {
   "cell_type": "code",
   "execution_count": null,
   "id": "e8b308ac-1fb9-435b-a56c-b45849e7e7a0",
   "metadata": {},
   "outputs": [],
   "source": []
  }
 ],
 "metadata": {
  "kernelspec": {
   "display_name": "Python 3 (ipykernel)",
   "language": "python",
   "name": "python3"
  },
  "language_info": {
   "codemirror_mode": {
    "name": "ipython",
    "version": 3
   },
   "file_extension": ".py",
   "mimetype": "text/x-python",
   "name": "python",
   "nbconvert_exporter": "python",
   "pygments_lexer": "ipython3",
   "version": "3.11.6"
  }
 },
 "nbformat": 4,
 "nbformat_minor": 5
}
