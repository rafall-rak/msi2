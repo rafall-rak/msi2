{
 "cells": [
  {
   "cell_type": "code",
   "execution_count": 1,
   "id": "initial_id",
   "metadata": {},
   "outputs": [],
   "source": [
    "import numpy as np\n",
    "from scipy.optimize import minimize, dual_annealing, differential_evolution"
   ]
  },
  {
   "cell_type": "markdown",
   "id": "1b9ff314a7047dc8",
   "metadata": {},
   "source": [
    "#### Test function"
   ]
  },
  {
   "cell_type": "code",
   "execution_count": 2,
   "id": "4804fe9fd75f1cd1",
   "metadata": {},
   "outputs": [],
   "source": [
    "def rastrigin_fn(xs: np.ndarray) -> float:\n",
    "    \"\"\"\n",
    "    The Rastrigin function is a widely used test problem for optimization\n",
    "    algorithms. It is a multimodal function with:\n",
    "     - a single global minimum\n",
    "     - many local minima.\n",
    "\n",
    "    The function takes a numpy array of length d as an argument and\n",
    "    returns the value of the function at the given point.\n",
    "    \"\"\"\n",
    "    return np.sum(xs * xs - 10 * np.cos(2 * np.pi * xs)) + 10 * np.size(xs)"
   ]
  },
  {
   "cell_type": "code",
   "execution_count": 3,
   "id": "cbb4b6cf85f6d089",
   "metadata": {},
   "outputs": [],
   "source": [
    "np.random.seed(42)"
   ]
  },
  {
   "cell_type": "code",
   "execution_count": 4,
   "id": "644b511b23c253",
   "metadata": {},
   "outputs": [
    {
     "data": {
      "text/plain": [
       "array([1.87270059, 4.75357153])"
      ]
     },
     "execution_count": 4,
     "metadata": {},
     "output_type": "execute_result"
    }
   ],
   "source": [
    "x01 = np.random.rand(2) * 5\n",
    "x01"
   ]
  },
  {
   "cell_type": "markdown",
   "id": "1629c79358739152",
   "metadata": {},
   "source": [
    "#### Numerical experiments"
   ]
  },
  {
   "cell_type": "markdown",
   "id": "644f4cdc9f9b7ffc",
   "metadata": {},
   "source": [
    "a) BFGS algorithm"
   ]
  },
  {
   "cell_type": "code",
   "execution_count": 5,
   "id": "b0d11e25f60f89d5",
   "metadata": {},
   "outputs": [
    {
     "name": "stdout",
     "output_type": "stream",
     "text": [
      "  message: Optimization terminated successfully.\n",
      "  success: True\n",
      "   status: 0\n",
      "      fun: 28.8535541250964\n",
      "        x: [ 1.990e+00  4.975e+00]\n",
      "      nit: 7\n",
      "      jac: [ 3.475e-06  6.614e-06]\n",
      " hess_inv: [[ 2.540e-03  2.932e-05]\n",
      "            [ 2.932e-05  2.609e-03]]\n",
      "     nfev: 30\n",
      "     njev: 10\n"
     ]
    }
   ],
   "source": [
    "res_bfgs = minimize(rastrigin_fn, x01, method=\"BFGS\", jac=\"2-point\")\n",
    "print(res_bfgs)"
   ]
  },
  {
   "cell_type": "markdown",
   "id": "89681ca6f6cc6fc1",
   "metadata": {},
   "source": [
    "b) Dual annealing algorithm"
   ]
  },
  {
   "cell_type": "code",
   "execution_count": 6,
   "id": "7bb1a5644c4963b7",
   "metadata": {},
   "outputs": [],
   "source": [
    "xs_bounds = [(-5, 5)] * 2\n",
    "res_sa = dual_annealing(rastrigin_fn, bounds=xs_bounds)"
   ]
  },
  {
   "cell_type": "code",
   "execution_count": 7,
   "id": "ed3db7f04067302f",
   "metadata": {},
   "outputs": [
    {
     "data": {
      "text/plain": [
       "array([-4.53642185e-09, -3.99125570e-09])"
      ]
     },
     "execution_count": 7,
     "metadata": {},
     "output_type": "execute_result"
    }
   ],
   "source": [
    "res_sa.x"
   ]
  },
  {
   "cell_type": "code",
   "execution_count": 8,
   "id": "c4483eeaf723d178",
   "metadata": {},
   "outputs": [
    {
     "data": {
      "text/plain": [
       "np.float64(7.105427357601002e-15)"
      ]
     },
     "execution_count": 8,
     "metadata": {},
     "output_type": "execute_result"
    }
   ],
   "source": [
    "res_sa.fun"
   ]
  },
  {
   "cell_type": "markdown",
   "id": "150f14664d21a0a",
   "metadata": {},
   "source": [
    "c) Differential evolution algorithm"
   ]
  },
  {
   "cell_type": "code",
   "execution_count": 9,
   "id": "5aa9aeccf8c99a00",
   "metadata": {},
   "outputs": [
    {
     "data": {
      "text/plain": [
       "             message: Optimization terminated successfully.\n",
       "             success: True\n",
       "                 fun: 0.0\n",
       "                   x: [ 3.210e-09  1.633e-09]\n",
       "                 nit: 65\n",
       "                nfev: 1983\n",
       "          population: [[ 3.210e-09  1.633e-09]\n",
       "                       [ 1.668e-09 -1.035e-09]\n",
       "                       ...\n",
       "                       [ 1.372e-09 -2.049e-09]\n",
       "                       [ 8.465e-10  2.542e-09]]\n",
       " population_energies: [ 0.000e+00  0.000e+00 ...  0.000e+00  0.000e+00]"
      ]
     },
     "execution_count": 9,
     "metadata": {},
     "output_type": "execute_result"
    }
   ],
   "source": [
    "res_diff_ev = differential_evolution(rastrigin_fn, bounds=xs_bounds)\n",
    "res_diff_ev"
   ]
  }
 ],
 "metadata": {
  "kernelspec": {
   "display_name": "Python 3 (ipykernel)",
   "language": "python",
   "name": "python3"
  },
  "language_info": {
   "codemirror_mode": {
    "name": "ipython",
    "version": 3
   },
   "file_extension": ".py",
   "mimetype": "text/x-python",
   "name": "python",
   "nbconvert_exporter": "python",
   "pygments_lexer": "ipython3",
   "version": "3.11.6"
  }
 },
 "nbformat": 4,
 "nbformat_minor": 5
}
