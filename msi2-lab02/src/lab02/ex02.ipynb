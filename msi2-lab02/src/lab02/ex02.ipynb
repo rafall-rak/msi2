{
 "cells": [
  {
   "cell_type": "code",
   "execution_count": null,
   "id": "initial_id",
   "metadata": {},
   "outputs": [],
   "source": [
    "from sklearn import datasets\n",
    "\n",
    "digits = datasets.load_digits()\n",
    "print('digits.images: ' + str(digits.images.shape))\n",
    "print('digits.target: ' + str(digits.target.shape))"
   ]
  },
  {
   "cell_type": "code",
   "execution_count": null,
   "id": "ac51ff57eb87e56d",
   "metadata": {},
   "outputs": [],
   "source": [
    "digits.images[0]"
   ]
  },
  {
   "cell_type": "code",
   "execution_count": null,
   "id": "5783cef12d4f20de",
   "metadata": {},
   "outputs": [],
   "source": [
    "import matplotlib.pyplot as plt\n",
    "\n",
    "plt.tick_params(axis='both', which='both', bottom=False, top=False, left=False, right=False, labelbottom=False,\n",
    "                labelleft=False)\n",
    "plt.imshow(digits.images[0], cmap=plt.cm.gray_r, interpolation='nearest');"
   ]
  },
  {
   "cell_type": "code",
   "execution_count": null,
   "id": "609dab2a21cda568",
   "metadata": {},
   "outputs": [],
   "source": [
    "digits.target[0]"
   ]
  },
  {
   "cell_type": "code",
   "execution_count": null,
   "id": "6729c6e44afe3c07",
   "metadata": {},
   "outputs": [],
   "source": [
    "fig, axes = plt.subplots(5, 10, figsize=(12, 7), subplot_kw={'xticks': [], 'yticks': []})\n",
    "\n",
    "for i, ax in enumerate(axes.flat):\n",
    "    ax.imshow(digits.images[i], cmap=plt.cm.gray_r)\n",
    "    ax.text(0.45, 1.05, str(digits.target[i]), transform=ax.transAxes)"
   ]
  },
  {
   "cell_type": "code",
   "execution_count": null,
   "id": "14f184f90084a58e",
   "metadata": {},
   "outputs": [],
   "source": [
    "plt.xticks([])\n",
    "plt.hist(digits.target, rwidth=0.9);"
   ]
  },
  {
   "cell_type": "code",
   "execution_count": null,
   "id": "d93ac12f56fb7fce",
   "metadata": {},
   "outputs": [],
   "source": [
    "from sklearn.linear_model import LogisticRegression\n",
    "from sklearn.model_selection import train_test_split\n",
    "\n",
    "x_train, x_test, y_train, y_test = train_test_split(digits.data, digits.target, test_size=0.2, random_state=0)\n",
    "\n",
    "model = LogisticRegression(max_iter=5000)\n",
    "model.fit(x_train, y_train);"
   ]
  },
  {
   "cell_type": "code",
   "execution_count": null,
   "id": "cc8774f49a7f2a33",
   "metadata": {},
   "outputs": [],
   "source": [
    "model.score(x_test, y_test)"
   ]
  },
  {
   "cell_type": "code",
   "execution_count": null,
   "id": "5f1f9fc69f3b4566",
   "metadata": {},
   "outputs": [],
   "source": [
    "import matplotlib.pyplot as plt\n",
    "from sklearn.metrics import ConfusionMatrixDisplay as cmd\n",
    "import seaborn as sns\n",
    "\n",
    "sns.set_theme()\n",
    "\n",
    "fig, ax = plt.subplots(figsize=(8, 8))\n",
    "ax.grid(False)\n",
    "cmd.from_estimator(model, x_test, y_test, cmap='Blues', colorbar=False, ax=ax);"
   ]
  },
  {
   "cell_type": "code",
   "execution_count": null,
   "id": "2b0f4fb71c632f14",
   "metadata": {},
   "outputs": [],
   "source": [
    "sns.reset_orig()  # Undo sns.set()\n",
    "plt.tick_params(axis='both', which='both', bottom=False, top=False, left=False, right=False, labelbottom=False,\n",
    "                labelleft=False)\n",
    "plt.imshow(digits.images[100], cmap=plt.cm.gray_r);"
   ]
  },
  {
   "cell_type": "code",
   "execution_count": null,
   "id": "6e0c6a87f3a9dd3f",
   "metadata": {},
   "outputs": [],
   "source": [
    "model.predict([digits.data[100]])[0]"
   ]
  },
  {
   "cell_type": "code",
   "execution_count": null,
   "id": "980a037208afd877",
   "metadata": {},
   "outputs": [],
   "source": [
    "model.predict_proba([digits.data[100]])"
   ]
  },
  {
   "cell_type": "code",
   "execution_count": null,
   "id": "2877b75f783a6f42",
   "metadata": {},
   "outputs": [],
   "source": [
    "model.predict_proba([digits.data[100]])[0][4]"
   ]
  }
 ],
 "metadata": {
  "kernelspec": {
   "display_name": "Python 3 (ipykernel)",
   "language": "python",
   "name": "python3"
  },
  "language_info": {
   "codemirror_mode": {
    "name": "ipython",
    "version": 3
   },
   "file_extension": ".py",
   "mimetype": "text/x-python",
   "name": "python",
   "nbconvert_exporter": "python",
   "pygments_lexer": "ipython3",
   "version": "3.11.6"
  }
 },
 "nbformat": 4,
 "nbformat_minor": 5
}
