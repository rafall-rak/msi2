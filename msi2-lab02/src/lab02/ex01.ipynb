{
 "cells": [
  {
   "cell_type": "code",
   "execution_count": null,
   "id": "initial_id",
   "metadata": {},
   "outputs": [],
   "source": [
    "import pandas as pd\n",
    "import pyarrow.parquet as pq\n",
    "import pyarrow.csv as csv"
   ]
  },
  {
   "cell_type": "code",
   "execution_count": null,
   "id": "f2228a91-1204-4cef-b410-b9f79c73d74b",
   "metadata": {},
   "outputs": [],
   "source": [
    "# table = csv.read_csv('data/titanic.csv')"
   ]
  },
  {
   "cell_type": "code",
   "execution_count": null,
   "id": "55222c9e-1604-4187-a4a0-afda3f0a6d9a",
   "metadata": {
    "scrolled": true
   },
   "outputs": [],
   "source": [
    "# import os, humanize, math\n",
    "\n",
    "# algorithms = ['none', 'snappy', 'gzip', 'brotli', 'lz4', 'zstd']\n",
    "\n",
    "# smallest_size = math.inf\n",
    "# best_algorithm = None\n",
    "\n",
    "# for algorithm in algorithms:\n",
    "#     file_name=f'data/titanic_{algorithm}.parquet'\n",
    "#     pq.write_table(table, file_name, compression=algorithm)\n",
    "#     file_size = os.stat(file_name).st_size\n",
    "#     os.remove(file_name)\n",
    "#     if file_size < smallest_size:\n",
    "#         smallest_size = file_size\n",
    "#         best_algorithm = algorithm\n",
    "#     hr_file_size = humanize.naturalsize(file_size, binary=True)\n",
    "\n",
    "# print(f'Smallest file achieved with: {best_algorithm}.')"
   ]
  },
  {
   "cell_type": "code",
   "execution_count": null,
   "id": "d913115b-0906-4f9a-8bfc-01aa3f7b36b5",
   "metadata": {},
   "outputs": [],
   "source": [
    "# pq.write_table(table, 'data/titanic.parquet', compression=best_algorithm)"
   ]
  },
  {
   "cell_type": "code",
   "execution_count": null,
   "id": "4f4cc873-d9c6-4ea2-b49b-287cce7b799e",
   "metadata": {},
   "outputs": [],
   "source": [
    "# import os, humanize\n",
    "\n",
    "# file_size = os.stat('data/titanic.csv').st_size\n",
    "# csv_size = humanize.naturalsize(file_size, binary=True)\n",
    "\n",
    "# file_size = os.stat('data/titanic.parquet').st_size\n",
    "# parquet_size = humanize.naturalsize(file_size, binary=True)\n",
    "\n",
    "# print(f'titanic.csv: {csv_size}, titanic.parquet: {parquet_size}')"
   ]
  },
  {
   "cell_type": "code",
   "execution_count": null,
   "id": "71058a106b6a4dfa",
   "metadata": {},
   "outputs": [],
   "source": [
    "table = pq.read_table('data/titanic.parquet')\n",
    "raw_df = table.to_pandas()\n",
    "raw_df.head()"
   ]
  },
  {
   "cell_type": "code",
   "execution_count": null,
   "id": "fe76577a9579b9f5",
   "metadata": {},
   "outputs": [],
   "source": [
    "df = raw_df[['Survived', 'Age', 'Sex', 'Pclass']]\n",
    "df = pd.get_dummies(df, columns=['Sex', 'Pclass'])\n",
    "df = df.dropna()\n",
    "df.head()"
   ]
  },
  {
   "cell_type": "code",
   "execution_count": null,
   "id": "4d60000f8f35ccd7",
   "metadata": {},
   "outputs": [],
   "source": [
    "from sklearn.model_selection import train_test_split\n",
    "\n",
    "x = df.drop('Survived', axis=1)\n",
    "y = df['Survived']\n",
    "\n",
    "x_train, x_test, y_train, y_test = train_test_split(x, y, test_size=0.2, stratify=y, random_state=0)"
   ]
  },
  {
   "cell_type": "code",
   "execution_count": null,
   "id": "907b82705289a9e2",
   "metadata": {},
   "outputs": [],
   "source": [
    "from sklearn.linear_model import LogisticRegression\n",
    "\n",
    "model = LogisticRegression(random_state=0)\n",
    "model.fit(x_train, y_train);"
   ]
  },
  {
   "cell_type": "code",
   "execution_count": null,
   "id": "2d481618a433bb61",
   "metadata": {},
   "outputs": [],
   "source": [
    "model.score(x_test, y_test)"
   ]
  },
  {
   "cell_type": "code",
   "execution_count": null,
   "id": "3c373b8d23b2bf80",
   "metadata": {},
   "outputs": [],
   "source": [
    "from sklearn.model_selection import cross_val_score\n",
    "\n",
    "cross_val_score(model, x, y, cv=5).mean()"
   ]
  },
  {
   "cell_type": "code",
   "execution_count": null,
   "id": "376547888a735c03",
   "metadata": {},
   "outputs": [],
   "source": [
    "from sklearn.metrics import confusion_matrix\n",
    "\n",
    "y_predicted = model.predict(x_test)\n",
    "confusion_matrix(y_test, y_predicted)"
   ]
  },
  {
   "cell_type": "code",
   "execution_count": null,
   "id": "20bb51ef8b291fe1",
   "metadata": {},
   "outputs": [],
   "source": [
    "from sklearn.metrics import ConfusionMatrixDisplay as cmd\n",
    "\n",
    "cmd.from_estimator(model, x_test, y_test, display_labels=['Perished', 'Survived'], cmap='Blues',\n",
    "                   xticks_rotation='vertical');"
   ]
  },
  {
   "cell_type": "code",
   "execution_count": null,
   "id": "7c13e7e3f4915195",
   "metadata": {},
   "outputs": [],
   "source": [
    "from sklearn.metrics import RocCurveDisplay\n",
    "\n",
    "RocCurveDisplay.from_estimator(model, x_test, y_test);"
   ]
  },
  {
   "cell_type": "code",
   "execution_count": null,
   "id": "9623f4707b2ba0fb",
   "metadata": {},
   "outputs": [],
   "source": [
    "from sklearn.metrics import precision_score, recall_score\n",
    "\n",
    "y_pred = model.predict(x_test)\n",
    "precision = precision_score(y_test, y_pred)\n",
    "recall = recall_score(y_test, y_pred)\n",
    "sensitivity = recall\n",
    "specificity = recall_score(y_test, y_pred, pos_label=0)\n",
    "\n",
    "print(f'Precision: {precision}')\n",
    "print(f'Recall: {recall}')\n",
    "print(f'Sensitivity: {sensitivity}')\n",
    "print(f'Specificity: {specificity}')"
   ]
  },
  {
   "cell_type": "code",
   "execution_count": null,
   "id": "b08b8ee6b65d86f0",
   "metadata": {},
   "outputs": [],
   "source": [
    "female = pd.DataFrame({'Age': [30], 'Sex_female': [1], 'Sex_male': [0],\n",
    "                       'Pclass_1': [1], 'Pclass_2': [0], 'Pclass_3': [0]})\n",
    "\n",
    "model.predict(female)[0]"
   ]
  },
  {
   "cell_type": "code",
   "execution_count": null,
   "id": "7c52c88874232178",
   "metadata": {},
   "outputs": [],
   "source": [
    "probability = model.predict_proba(female)[0][1]\n",
    "print(f'Probability of survival: {probability:.1%}')"
   ]
  },
  {
   "cell_type": "code",
   "execution_count": null,
   "id": "ee856cae0c7cbdf3",
   "metadata": {},
   "outputs": [],
   "source": [
    "male = pd.DataFrame({'Age': [60], 'Sex_female': [0], 'Sex_male': [1],\n",
    "                     'Pclass_1': [0], 'Pclass_2': [0], 'Pclass_3': [1]})\n",
    "\n",
    "probability = model.predict_proba(male)[0][1]\n",
    "print(f'Probability of survival: {probability:.1%}')"
   ]
  },
  {
   "cell_type": "markdown",
   "id": "fbabc76b48cdc169",
   "metadata": {},
   "source": [
    "Estimate the chance of survival for a 12-year-old boy traveling in second class"
   ]
  }
 ],
 "metadata": {
  "kernelspec": {
   "display_name": "Python 3 (ipykernel)",
   "language": "python",
   "name": "python3"
  },
  "language_info": {
   "codemirror_mode": {
    "name": "ipython",
    "version": 3
   },
   "file_extension": ".py",
   "mimetype": "text/x-python",
   "name": "python",
   "nbconvert_exporter": "python",
   "pygments_lexer": "ipython3",
   "version": "3.11.6"
  }
 },
 "nbformat": 4,
 "nbformat_minor": 5
}
