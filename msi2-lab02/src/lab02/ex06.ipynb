{
 "cells": [
  {
   "cell_type": "code",
   "execution_count": null,
   "id": "initial_id",
   "metadata": {},
   "outputs": [],
   "source": [
    "import pandas as pd\n",
    "\n",
    "customers = pd.read_csv('data/customers.csv')\n",
    "customers.head()"
   ]
  },
  {
   "cell_type": "code",
   "execution_count": null,
   "id": "b5808e51e4846f7f",
   "metadata": {},
   "outputs": [],
   "source": [
    "customers.shape"
   ]
  },
  {
   "cell_type": "code",
   "execution_count": null,
   "id": "1ce399f3ca3c1f99",
   "metadata": {},
   "outputs": [],
   "source": [
    "customers.info()"
   ]
  },
  {
   "cell_type": "code",
   "execution_count": null,
   "id": "b4aee5a578284f38",
   "metadata": {},
   "outputs": [],
   "source": [
    "import matplotlib.pyplot as plt\n",
    "\n",
    "points = customers.iloc[:, 3:5].values\n",
    "x = points[:, 0]\n",
    "y = points[:, 1]\n",
    "\n",
    "plt.scatter(x, y, s=50, alpha=0.7)\n",
    "plt.xlabel('Annual Income (k$)')\n",
    "plt.ylabel('Spending Score');"
   ]
  },
  {
   "cell_type": "code",
   "execution_count": null,
   "id": "1ddceca5dba850e5",
   "metadata": {},
   "outputs": [],
   "source": [
    "from sklearn.cluster import KMeans\n",
    "\n",
    "inertias = []\n",
    "\n",
    "for i in range(1, 10):\n",
    "    kmeans = KMeans(n_clusters=i, random_state=0)\n",
    "    kmeans.fit(points)\n",
    "    inertias.append(kmeans.inertia_)\n",
    "\n",
    "plt.plot(range(1, 10), inertias)\n",
    "plt.xlabel('Number of clusters')\n",
    "plt.ylabel('Inertia');"
   ]
  },
  {
   "cell_type": "code",
   "execution_count": null,
   "id": "ee270dbabd241461",
   "metadata": {},
   "outputs": [],
   "source": [
    "kmeans = KMeans(n_clusters=5, random_state=0)\n",
    "kmeans.fit(points)\n",
    "predicted_cluster_indexes = kmeans.predict(points)\n",
    "\n",
    "plt.scatter(x, y, c=predicted_cluster_indexes, s=50, alpha=0.7, cmap='viridis')\n",
    "plt.xlabel('Annual Income (k$)')\n",
    "plt.ylabel('Spending Score')\n",
    "\n",
    "centers = kmeans.cluster_centers_\n",
    "plt.scatter(centers[:, 0], centers[:, 1], c='red', s=100);"
   ]
  },
  {
   "cell_type": "code",
   "execution_count": null,
   "id": "ff51b49680c43ee8",
   "metadata": {},
   "outputs": [],
   "source": [
    "df = customers.copy()\n",
    "df['Cluster'] = kmeans.predict(points)\n",
    "df.head()"
   ]
  },
  {
   "cell_type": "code",
   "execution_count": null,
   "id": "107ee41f55433656",
   "metadata": {},
   "outputs": [],
   "source": [
    "import numpy as np\n",
    "\n",
    "cluster = kmeans.predict(np.array([[120, 20]]))[0]\n",
    "clustered_df = df[df['Cluster'] == cluster]\n",
    "clustered_df['CustomerID'].values"
   ]
  },
  {
   "cell_type": "code",
   "execution_count": null,
   "id": "8dc9a73f58b7345f",
   "metadata": {},
   "outputs": [],
   "source": [
    "from sklearn.preprocessing import LabelEncoder\n",
    "\n",
    "df = customers.copy()\n",
    "encoder = LabelEncoder()\n",
    "df['Gender'] = encoder.fit_transform(df['Gender'])\n",
    "df.head()"
   ]
  },
  {
   "cell_type": "code",
   "execution_count": null,
   "id": "e1cdd42a33aff0cc",
   "metadata": {},
   "outputs": [],
   "source": [
    "inertias = []\n",
    "points = df.iloc[:, 1:5].values\n",
    "\n",
    "for i in range(1, 10):\n",
    "    kmeans = KMeans(n_clusters=i, random_state=0)\n",
    "    kmeans.fit(points)\n",
    "    inertias.append(kmeans.inertia_)\n",
    "\n",
    "plt.plot(range(1, 10), inertias)\n",
    "plt.xlabel('Number of Clusters')\n",
    "plt.ylabel('Inertia');"
   ]
  },
  {
   "cell_type": "code",
   "execution_count": null,
   "id": "d99f1f69473fc602",
   "metadata": {},
   "outputs": [],
   "source": [
    "kmeans = KMeans(n_clusters=5, random_state=0)\n",
    "kmeans.fit(points)\n",
    "\n",
    "df['Cluster'] = kmeans.predict(points)\n",
    "df.head()"
   ]
  },
  {
   "cell_type": "code",
   "execution_count": null,
   "id": "3271c5be8ee2c4f6",
   "metadata": {},
   "outputs": [],
   "source": [
    "results = pd.DataFrame(\n",
    "    columns=['Cluster', 'Average Age', 'Average Income', 'Average Spending Index', 'Number of Females',\n",
    "             'Number of Males'])\n",
    "\n",
    "for i, center in enumerate(kmeans.cluster_centers_):\n",
    "    age = center[1]  # Average age for current cluster\n",
    "    income = center[2]  # Average income for current cluster\n",
    "    spend = center[3]  # Average spending score for current cluster\n",
    "\n",
    "    gdf = df[df['Cluster'] == i]\n",
    "    females = gdf[gdf['Gender'] == 0].shape[0]\n",
    "    males = gdf[gdf['Gender'] == 1].shape[0]\n",
    "\n",
    "    results.loc[i] = ([i, age, income, spend, females, males])\n",
    "\n",
    "results.head()"
   ]
  }
 ],
 "metadata": {
  "kernelspec": {
   "display_name": "Python 3 (ipykernel)",
   "language": "python",
   "name": "python3"
  },
  "language_info": {
   "codemirror_mode": {
    "name": "ipython",
    "version": 3
   },
   "file_extension": ".py",
   "mimetype": "text/x-python",
   "name": "python",
   "nbconvert_exporter": "python",
   "pygments_lexer": "ipython3",
   "version": "3.11.6"
  }
 },
 "nbformat": 4,
 "nbformat_minor": 5
}
