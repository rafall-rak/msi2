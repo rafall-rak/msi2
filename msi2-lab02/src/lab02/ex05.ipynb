{
 "cells": [
  {
   "cell_type": "code",
   "execution_count": null,
   "id": "initial_id",
   "metadata": {},
   "outputs": [],
   "source": [
    "import matplotlib.pyplot as plt\n",
    "import seaborn as sns\n",
    "\n",
    "sns.set_theme()"
   ]
  },
  {
   "cell_type": "code",
   "execution_count": null,
   "id": "c9ed2a90f12df269",
   "metadata": {},
   "outputs": [],
   "source": [
    "from sklearn.datasets import make_blobs\n",
    "\n",
    "points, cluster_indexes = make_blobs(n_samples=300, centers=4, cluster_std=0.8, random_state=0)\n",
    "\n",
    "x = points[:, 0]\n",
    "y = points[:, 1]\n",
    "\n",
    "plt.scatter(x, y, s=50, alpha=0.7);"
   ]
  },
  {
   "cell_type": "code",
   "execution_count": null,
   "id": "4e2ed08d0c75ab9c",
   "metadata": {},
   "outputs": [],
   "source": [
    "from sklearn.cluster import KMeans\n",
    "\n",
    "kmeans = KMeans(n_clusters=3, random_state=0)\n",
    "kmeans.fit(points)\n",
    "predicted_cluster_indexes = kmeans.predict(points)\n",
    "\n",
    "plt.scatter(x, y, c=predicted_cluster_indexes, s=50, alpha=0.7, cmap='viridis')\n",
    "\n",
    "centers = kmeans.cluster_centers_\n",
    "plt.scatter(centers[:, 0], centers[:, 1], c='red', s=100);"
   ]
  },
  {
   "cell_type": "code",
   "execution_count": null,
   "id": "bf10d50122495ef3",
   "metadata": {},
   "outputs": [],
   "source": [
    "kmeans = KMeans(n_clusters=4, random_state=0)\n",
    "kmeans.fit(points)\n",
    "predicted_cluster_indexes = kmeans.predict(points)\n",
    "\n",
    "plt.scatter(x, y, c=predicted_cluster_indexes, s=50, alpha=0.7, cmap='viridis')\n",
    "\n",
    "centers = kmeans.cluster_centers_\n",
    "plt.scatter(centers[:, 0], centers[:, 1], c='red', s=100);"
   ]
  },
  {
   "cell_type": "code",
   "execution_count": null,
   "id": "b876eea0b135f78b",
   "metadata": {},
   "outputs": [],
   "source": [
    "kmeans = KMeans(n_clusters=5, random_state=0)\n",
    "kmeans.fit(points)\n",
    "predicted_cluster_indexes = kmeans.predict(points)\n",
    "\n",
    "plt.scatter(x, y, c=predicted_cluster_indexes, s=50, alpha=0.7, cmap='viridis')\n",
    "\n",
    "centers = kmeans.cluster_centers_\n",
    "plt.scatter(centers[:, 0], centers[:, 1], c='red', s=100);"
   ]
  },
  {
   "cell_type": "code",
   "execution_count": null,
   "id": "8873d05aab332261",
   "metadata": {},
   "outputs": [],
   "source": [
    "inertias = []\n",
    "\n",
    "for i in range(1, 10):\n",
    "    kmeans = KMeans(n_clusters=i, random_state=0)\n",
    "    kmeans.fit(points)\n",
    "    inertias.append(kmeans.inertia_)\n",
    "\n",
    "plt.plot(range(1, 10), inertias)\n",
    "plt.xlabel('Number of clusters')\n",
    "plt.ylabel('Inertia');"
   ]
  },
  {
   "cell_type": "code",
   "execution_count": null,
   "id": "1808696a12604c77",
   "metadata": {},
   "outputs": [],
   "source": [
    "kmeans = KMeans(n_clusters=4, random_state=0)\n",
    "kmeans.fit(points)\n",
    "predicted_cluster_indexes = kmeans.predict(points)\n",
    "\n",
    "plt.scatter(x, y, c=predicted_cluster_indexes, s=50, alpha=0.7, cmap='viridis')\n",
    "\n",
    "centers = kmeans.cluster_centers_\n",
    "plt.scatter(centers[:, 0], centers[:, 1], c='red', s=100);"
   ]
  },
  {
   "cell_type": "code",
   "execution_count": null,
   "id": "5b1be0c22426370",
   "metadata": {},
   "outputs": [],
   "source": [
    "import numpy as np\n",
    "\n",
    "point = np.array([[-0.5, 5]])\n",
    "px = point[:, 0]\n",
    "py = point[:, 1]\n",
    "\n",
    "plt.scatter(x, y, c=predicted_cluster_indexes, s=50, alpha=0.7, cmap='viridis')\n",
    "plt.scatter(centers[:, 0], centers[:, 1], c='red', s=100)\n",
    "plt.scatter(px, py, c='orange', s=200);"
   ]
  },
  {
   "cell_type": "code",
   "execution_count": null,
   "id": "6c27737405186dd6",
   "metadata": {},
   "outputs": [],
   "source": [
    "cluster = kmeans.predict(point)[0]\n",
    "print(cluster)"
   ]
  },
  {
   "cell_type": "code",
   "execution_count": null,
   "id": "860c0b39e635876c",
   "metadata": {},
   "outputs": [],
   "source": [
    "r = points[predicted_cluster_indexes == cluster]\n",
    "\n",
    "plt.scatter(x, y, c=predicted_cluster_indexes, s=50, alpha=0.7, cmap='viridis')\n",
    "plt.scatter(r[:, 0], r[:, 1], c='red', s=50)\n",
    "plt.scatter(px, py, c='orange', s=200);"
   ]
  },
  {
   "cell_type": "code",
   "execution_count": null,
   "id": "e93412f6f1ac149a",
   "metadata": {},
   "outputs": [],
   "source": [
    "d = [np.sqrt((px - centers[i][0]) ** 2 + (py - centers[i][1]) ** 2) for i in range(len(centers))]\n",
    "print(d)"
   ]
  }
 ],
 "metadata": {
  "kernelspec": {
   "display_name": "Python 3 (ipykernel)",
   "language": "python",
   "name": "python3"
  },
  "language_info": {
   "codemirror_mode": {
    "name": "ipython",
    "version": 3
   },
   "file_extension": ".py",
   "mimetype": "text/x-python",
   "name": "python",
   "nbconvert_exporter": "python",
   "pygments_lexer": "ipython3",
   "version": "3.11.6"
  }
 },
 "nbformat": 4,
 "nbformat_minor": 5
}
