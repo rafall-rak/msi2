{
 "cells": [
  {
   "metadata": {},
   "cell_type": "code",
   "source": [
    "import matplotlib.pyplot as plt\n",
    "import seaborn as sns\n",
    "from sklearn.datasets import load_digits\n",
    "\n",
    "sns.set_theme()\n",
    "sns.reset_orig()"
   ],
   "id": "1eadba773d689d79",
   "outputs": [],
   "execution_count": null
  },
  {
   "metadata": {},
   "cell_type": "code",
   "source": [
    "from sklearn.decomposition import PCA\n",
    "\n",
    "digits = load_digits()\n",
    "\n",
    "pca = PCA(n_components=2, random_state=0)\n",
    "pca_digits = pca.fit_transform(digits.data)\n",
    "\n",
    "plt.figure(figsize=(12, 8))\n",
    "plt.scatter(pca_digits[:, 0], pca_digits[:, 1], c=digits.target, cmap=plt.get_cmap('Paired', 10))\n",
    "plt.colorbar(ticks=range(10))\n",
    "plt.clim(-0.5, 9.5)"
   ],
   "id": "7a68a679a7fb9f57",
   "outputs": [],
   "execution_count": null
  },
  {
   "metadata": {},
   "cell_type": "code",
   "source": [
    "digits = load_digits()\n",
    "pca = PCA(n_components=3, random_state=0)\n",
    "pca_digits = pca.fit_transform(digits.data)\n",
    "\n",
    "ax = plt.figure(figsize=(12, 8)).add_subplot(111, projection='3d')\n",
    "ax.scatter(xs=pca_digits[:, 0], ys=pca_digits[:, 1], zs=pca_digits[:, 2], c=digits.target,\n",
    "           cmap=plt.get_cmap('Paired', 10));"
   ],
   "id": "e68b4fdf57795141",
   "outputs": [],
   "execution_count": null
  },
  {
   "metadata": {},
   "cell_type": "code",
   "source": [
    "from sklearn.manifold import TSNE\n",
    "\n",
    "digits = load_digits()\n",
    "tsne = TSNE(n_components=2, init='pca', learning_rate='auto', random_state=0)\n",
    "tsne_digits = tsne.fit_transform(digits.data)\n",
    "\n",
    "plt.figure(figsize=(12, 8))\n",
    "plt.scatter(tsne_digits[:, 0], tsne_digits[:, 1], c=digits.target, cmap=plt.get_cmap('Paired', 10))\n",
    "plt.colorbar(ticks=range(10))\n",
    "plt.clim(-0.5, 9.5);"
   ],
   "id": "92233012ed5253fe",
   "outputs": [],
   "execution_count": null
  }
 ],
 "metadata": {
  "kernelspec": {
   "display_name": "Python 3",
   "language": "python",
   "name": "python3"
  },
  "language_info": {
   "codemirror_mode": {
    "name": "ipython",
    "version": 2
   },
   "file_extension": ".py",
   "mimetype": "text/x-python",
   "name": "python",
   "nbconvert_exporter": "python",
   "pygments_lexer": "ipython2",
   "version": "2.7.6"
  }
 },
 "nbformat": 4,
 "nbformat_minor": 5
}
