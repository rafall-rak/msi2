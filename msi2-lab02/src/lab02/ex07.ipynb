{
 "cells": [
  {
   "cell_type": "code",
   "id": "initial_id",
   "metadata": {
    "collapsed": true
   },
   "source": [
    "import matplotlib.pyplot as plt\n",
    "import numpy as np\n",
    "import seaborn as sns\n",
    "from sklearn.datasets import make_regression\n",
    "\n",
    "sns.set_theme()"
   ],
   "outputs": [],
   "execution_count": null
  },
  {
   "metadata": {},
   "cell_type": "code",
   "source": [
    "x, y = make_regression(n_samples=200, n_features=1, noise=50, random_state=0)\n",
    "x = np.interp(x, (x.min(), x.max()), (-3, 3))\n",
    "y = np.interp(y, (y.min(), y.max()), (-2, 2))\n",
    "xy = np.column_stack((x, y))"
   ],
   "id": "138765103d46f9ee",
   "outputs": [],
   "execution_count": null
  },
  {
   "metadata": {},
   "cell_type": "code",
   "source": [
    "plt.figure(figsize=(9, 6))\n",
    "plt.scatter(x, y, s=100, alpha=0.5);"
   ],
   "id": "af5abb87c30b941e",
   "outputs": [],
   "execution_count": null
  },
  {
   "metadata": {},
   "cell_type": "code",
   "source": [
    "from sklearn.decomposition import PCA\n",
    "\n",
    "pca = PCA(n_components=2)\n",
    "pca.fit(xy);"
   ],
   "id": "c33c1263b3838494",
   "outputs": [],
   "execution_count": null
  },
  {
   "metadata": {},
   "cell_type": "code",
   "source": [
    "plt.figure(figsize=(9, 6))\n",
    "plt.scatter(x, y, s=100, alpha=0.5)\n",
    "\n",
    "for i in range(pca.n_components_):\n",
    "    x1, y1 = pca.mean_\n",
    "    dx, dy = 2.5 * pca.components_[i] * np.sqrt(pca.explained_variance_[i])\n",
    "    plt.arrow(x1, y1, dx, dy, width=0.05, head_length=0.25, head_width=0.25, color='black')"
   ],
   "id": "db26924d2026e2c3",
   "outputs": [],
   "execution_count": null
  },
  {
   "metadata": {},
   "cell_type": "code",
   "source": "pca.explained_variance_ratio_",
   "id": "65a0de8696cda8d9",
   "outputs": [],
   "execution_count": null
  },
  {
   "metadata": {},
   "cell_type": "code",
   "source": [
    "pca = PCA(n_components=1)\n",
    "pca_data = pca.fit_transform(xy)"
   ],
   "id": "5651a889c28d23a1",
   "outputs": [],
   "execution_count": null
  },
  {
   "metadata": {},
   "cell_type": "code",
   "source": [
    "unpca_data = pca.inverse_transform(pca_data)\n",
    "\n",
    "plt.figure(figsize=(9, 6))\n",
    "plt.scatter(x, y, s=100, alpha=0.5)\n",
    "plt.scatter(unpca_data[:, 0], unpca_data[:, 1], s=100, alpha=0.5);"
   ],
   "id": "f6f04e5f5ff7d48b",
   "outputs": [],
   "execution_count": null
  },
  {
   "metadata": {},
   "cell_type": "code",
   "source": "",
   "id": "d68cb27611c5f85a",
   "outputs": [],
   "execution_count": null
  }
 ],
 "metadata": {
  "kernelspec": {
   "display_name": "Python 3",
   "language": "python",
   "name": "python3"
  },
  "language_info": {
   "codemirror_mode": {
    "name": "ipython",
    "version": 2
   },
   "file_extension": ".py",
   "mimetype": "text/x-python",
   "name": "python",
   "nbconvert_exporter": "python",
   "pygments_lexer": "ipython2",
   "version": "2.7.6"
  }
 },
 "nbformat": 4,
 "nbformat_minor": 5
}
