{
 "cells": [
  {
   "metadata": {},
   "cell_type": "code",
   "source": [
    "from sklearn.datasets import fetch_lfw_people\n",
    "\n",
    "faces = fetch_lfw_people(min_faces_per_person=100, slice_=None)\n",
    "faces.images = faces.images[:, 35:97, 39:86]\n",
    "faces.data = faces.images.reshape(faces.images.shape[0], faces.images.shape[1] * faces.images.shape[2])\n",
    "print(faces.target_names)\n",
    "print(faces.images.shape)"
   ],
   "id": "a4b3b3e78cdfce36",
   "outputs": [],
   "execution_count": null
  },
  {
   "metadata": {},
   "cell_type": "code",
   "source": [
    "import seaborn as sns\n",
    "import matplotlib.pyplot as plt\n",
    "\n",
    "sns.set_theme()\n",
    "sns.reset_orig()  # Undo sns.set()\n",
    "\n",
    "fig, ax = plt.subplots(3, 8, figsize=(18, 10))\n",
    "\n",
    "for i, axi in enumerate(ax.flat):\n",
    "    axi.imshow(faces.images[i], cmap='gist_gray')\n",
    "    axi.set(xticks=[], yticks=[], xlabel=faces.target_names[faces.target[i]])"
   ],
   "id": "6c5196028f52832e",
   "outputs": [],
   "execution_count": null
  },
  {
   "metadata": {},
   "cell_type": "code",
   "source": [
    "from sklearn.decomposition import PCA\n",
    "\n",
    "pca = PCA(n_components=150, random_state=0)\n",
    "pca_faces = pca.fit_transform(faces.data)\n",
    "unpca_faces = pca.inverse_transform(pca_faces).reshape(1140, 62, 47)"
   ],
   "id": "8449c0b9c5e1380b",
   "outputs": [],
   "execution_count": null
  },
  {
   "metadata": {},
   "cell_type": "code",
   "source": [
    "fig, ax = plt.subplots(3, 8, figsize=(18, 10))\n",
    "\n",
    "for i, axi in enumerate(ax.flat):\n",
    "    axi.imshow(unpca_faces[i], cmap='gist_gray')\n",
    "    axi.set(xticks=[], yticks=[], xlabel=faces.target_names[faces.target[i]])"
   ],
   "id": "7fb490fd566929e0",
   "outputs": [],
   "execution_count": null
  },
  {
   "metadata": {},
   "cell_type": "code",
   "source": "pca.explained_variance_ratio_",
   "id": "1260a98598412948",
   "outputs": [],
   "execution_count": null
  },
  {
   "metadata": {},
   "cell_type": "code",
   "source": [
    "import numpy as np\n",
    "\n",
    "np.sum(pca.explained_variance_ratio_)"
   ],
   "id": "5282911e5533f2e",
   "outputs": [],
   "execution_count": null
  },
  {
   "metadata": {},
   "cell_type": "code",
   "source": [
    "plt.plot(pca.explained_variance_ratio_)\n",
    "plt.xlabel('Principal Component')\n",
    "plt.ylabel('Explained Variance');"
   ],
   "id": "dfd6b44ef7ff06d1",
   "outputs": [],
   "execution_count": null
  },
  {
   "metadata": {},
   "cell_type": "code",
   "source": [
    "plt.plot(np.cumsum(pca.explained_variance_ratio_))\n",
    "plt.xlabel('Number of Components')\n",
    "plt.ylabel('Cumulative Explained Variance');"
   ],
   "id": "79dc24573bca638d",
   "outputs": [],
   "execution_count": null
  },
  {
   "metadata": {},
   "cell_type": "code",
   "source": [
    "np.random.seed(0)\n",
    "noisy_faces = np.random.normal(faces.data, 0.0765)\n",
    "\n",
    "fig, ax = plt.subplots(3, 8, figsize=(18, 10))\n",
    "\n",
    "for i, axi in enumerate(ax.flat):\n",
    "    axi.imshow(noisy_faces[i].reshape(62, 47), cmap='gist_gray')\n",
    "    axi.set(xticks=[], yticks=[], xlabel=faces.target_names[faces.target[i]])"
   ],
   "id": "93503894e2402aa6",
   "outputs": [],
   "execution_count": null
  },
  {
   "metadata": {},
   "cell_type": "code",
   "source": [
    "pca = PCA(0.8, random_state=0)\n",
    "pca_faces = pca.fit_transform(noisy_faces)\n",
    "pca.n_components_"
   ],
   "id": "7816003897a0e80c",
   "outputs": [],
   "execution_count": null
  },
  {
   "metadata": {},
   "cell_type": "code",
   "source": [
    "unpca_faces = pca.inverse_transform(pca_faces)\n",
    "\n",
    "fig, ax = plt.subplots(3, 8, figsize=(18, 10))\n",
    "\n",
    "for i, axi in enumerate(ax.flat):\n",
    "    axi.imshow(unpca_faces[i].reshape(62, 47), cmap='gist_gray')\n",
    "    axi.set(xticks=[], yticks=[], xlabel=faces.target_names[faces.target[i]])"
   ],
   "id": "66436058b847c6b1",
   "outputs": [],
   "execution_count": null
  }
 ],
 "metadata": {
  "kernelspec": {
   "display_name": "Python 3",
   "language": "python",
   "name": "python3"
  },
  "language_info": {
   "codemirror_mode": {
    "name": "ipython",
    "version": 2
   },
   "file_extension": ".py",
   "mimetype": "text/x-python",
   "name": "python",
   "nbconvert_exporter": "python",
   "pygments_lexer": "ipython2",
   "version": "2.7.6"
  }
 },
 "nbformat": 4,
 "nbformat_minor": 5
}
