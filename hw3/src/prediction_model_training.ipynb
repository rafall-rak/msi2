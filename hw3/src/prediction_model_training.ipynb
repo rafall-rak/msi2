{
 "cells": [
  {
   "cell_type": "markdown",
   "id": "449e3103-833d-404f-b2f7-7da05e1c1490",
   "metadata": {},
   "source": [
    "Using the classic 1978 Housing Prices Dataset:\n",
    "\n",
    "https://www.kaggle.com/datasets/yasserh/housing-prices-dataset/data"
   ]
  },
  {
   "cell_type": "code",
   "execution_count": 1,
   "id": "6dbbce1a-3b5e-4d7a-ae25-f8fa2974cdd7",
   "metadata": {},
   "outputs": [],
   "source": [
    "import numpy as np\n",
    "import pandas as pd\n",
    "import matplotlib.pyplot as plt\n",
    "\n",
    "import torch\n",
    "import torch.nn as nn\n",
    "import torch.optim as optim\n",
    "\n",
    "from sklearn.model_selection import train_test_split\n",
    "from sklearn.preprocessing import StandardScaler\n",
    "\n",
    "import tqdm\n",
    "import copy\n",
    "import pickle"
   ]
  },
  {
   "cell_type": "code",
   "execution_count": 2,
   "id": "f28dee0b-69a0-4a53-bab5-f48a1342ee27",
   "metadata": {},
   "outputs": [
    {
     "name": "stdout",
     "output_type": "stream",
     "text": [
      "cuda\n"
     ]
    }
   ],
   "source": [
    "device = torch.device(\"cuda\" if torch.cuda.is_available() else \"cpu\")\n",
    "print(device)"
   ]
  },
  {
   "cell_type": "markdown",
   "id": "dbaadebe-6b71-4618-8bfe-518f61666cca",
   "metadata": {},
   "source": [
    "## Data preparation\n",
    "\n",
    "Load data"
   ]
  },
  {
   "cell_type": "code",
   "execution_count": 3,
   "id": "2df09e4f-b179-4637-8cb8-7593a412ae1b",
   "metadata": {},
   "outputs": [],
   "source": [
    "housing_df = pd.read_csv('./data/Housing.csv')"
   ]
  },
  {
   "cell_type": "code",
   "execution_count": 4,
   "id": "0226f9fa-5cab-4963-aef0-ef29d6d613aa",
   "metadata": {
    "scrolled": true
   },
   "outputs": [
    {
     "data": {
      "text/html": [
       "<div>\n",
       "<style scoped>\n",
       "    .dataframe tbody tr th:only-of-type {\n",
       "        vertical-align: middle;\n",
       "    }\n",
       "\n",
       "    .dataframe tbody tr th {\n",
       "        vertical-align: top;\n",
       "    }\n",
       "\n",
       "    .dataframe thead th {\n",
       "        text-align: right;\n",
       "    }\n",
       "</style>\n",
       "<table border=\"1\" class=\"dataframe\">\n",
       "  <thead>\n",
       "    <tr style=\"text-align: right;\">\n",
       "      <th></th>\n",
       "      <th>price</th>\n",
       "      <th>area</th>\n",
       "      <th>bedrooms</th>\n",
       "      <th>bathrooms</th>\n",
       "      <th>stories</th>\n",
       "      <th>mainroad</th>\n",
       "      <th>guestroom</th>\n",
       "      <th>basement</th>\n",
       "      <th>hotwaterheating</th>\n",
       "      <th>airconditioning</th>\n",
       "      <th>parking</th>\n",
       "      <th>prefarea</th>\n",
       "      <th>furnishingstatus</th>\n",
       "    </tr>\n",
       "  </thead>\n",
       "  <tbody>\n",
       "    <tr>\n",
       "      <th>0</th>\n",
       "      <td>13300000</td>\n",
       "      <td>7420</td>\n",
       "      <td>4</td>\n",
       "      <td>2</td>\n",
       "      <td>3</td>\n",
       "      <td>yes</td>\n",
       "      <td>no</td>\n",
       "      <td>no</td>\n",
       "      <td>no</td>\n",
       "      <td>yes</td>\n",
       "      <td>2</td>\n",
       "      <td>yes</td>\n",
       "      <td>furnished</td>\n",
       "    </tr>\n",
       "    <tr>\n",
       "      <th>1</th>\n",
       "      <td>12250000</td>\n",
       "      <td>8960</td>\n",
       "      <td>4</td>\n",
       "      <td>4</td>\n",
       "      <td>4</td>\n",
       "      <td>yes</td>\n",
       "      <td>no</td>\n",
       "      <td>no</td>\n",
       "      <td>no</td>\n",
       "      <td>yes</td>\n",
       "      <td>3</td>\n",
       "      <td>no</td>\n",
       "      <td>furnished</td>\n",
       "    </tr>\n",
       "    <tr>\n",
       "      <th>2</th>\n",
       "      <td>12250000</td>\n",
       "      <td>9960</td>\n",
       "      <td>3</td>\n",
       "      <td>2</td>\n",
       "      <td>2</td>\n",
       "      <td>yes</td>\n",
       "      <td>no</td>\n",
       "      <td>yes</td>\n",
       "      <td>no</td>\n",
       "      <td>no</td>\n",
       "      <td>2</td>\n",
       "      <td>yes</td>\n",
       "      <td>semi-furnished</td>\n",
       "    </tr>\n",
       "    <tr>\n",
       "      <th>3</th>\n",
       "      <td>12215000</td>\n",
       "      <td>7500</td>\n",
       "      <td>4</td>\n",
       "      <td>2</td>\n",
       "      <td>2</td>\n",
       "      <td>yes</td>\n",
       "      <td>no</td>\n",
       "      <td>yes</td>\n",
       "      <td>no</td>\n",
       "      <td>yes</td>\n",
       "      <td>3</td>\n",
       "      <td>yes</td>\n",
       "      <td>furnished</td>\n",
       "    </tr>\n",
       "    <tr>\n",
       "      <th>4</th>\n",
       "      <td>11410000</td>\n",
       "      <td>7420</td>\n",
       "      <td>4</td>\n",
       "      <td>1</td>\n",
       "      <td>2</td>\n",
       "      <td>yes</td>\n",
       "      <td>yes</td>\n",
       "      <td>yes</td>\n",
       "      <td>no</td>\n",
       "      <td>yes</td>\n",
       "      <td>2</td>\n",
       "      <td>no</td>\n",
       "      <td>furnished</td>\n",
       "    </tr>\n",
       "  </tbody>\n",
       "</table>\n",
       "</div>"
      ],
      "text/plain": [
       "      price  area  bedrooms  bathrooms  stories mainroad guestroom basement  \\\n",
       "0  13300000  7420         4          2        3      yes        no       no   \n",
       "1  12250000  8960         4          4        4      yes        no       no   \n",
       "2  12250000  9960         3          2        2      yes        no      yes   \n",
       "3  12215000  7500         4          2        2      yes        no      yes   \n",
       "4  11410000  7420         4          1        2      yes       yes      yes   \n",
       "\n",
       "  hotwaterheating airconditioning  parking prefarea furnishingstatus  \n",
       "0              no             yes        2      yes        furnished  \n",
       "1              no             yes        3       no        furnished  \n",
       "2              no              no        2      yes   semi-furnished  \n",
       "3              no             yes        3      yes        furnished  \n",
       "4              no             yes        2       no        furnished  "
      ]
     },
     "execution_count": 4,
     "metadata": {},
     "output_type": "execute_result"
    }
   ],
   "source": [
    "housing_df.head(5)"
   ]
  },
  {
   "cell_type": "code",
   "execution_count": 5,
   "id": "6bf4827a-d8b5-42ad-b02f-ed551b3dc535",
   "metadata": {
    "scrolled": true
   },
   "outputs": [
    {
     "data": {
      "text/plain": [
       "price                int64\n",
       "area                 int64\n",
       "bedrooms             int64\n",
       "bathrooms            int64\n",
       "stories              int64\n",
       "mainroad            object\n",
       "guestroom           object\n",
       "basement            object\n",
       "hotwaterheating     object\n",
       "airconditioning     object\n",
       "parking              int64\n",
       "prefarea            object\n",
       "furnishingstatus    object\n",
       "dtype: object"
      ]
     },
     "execution_count": 5,
     "metadata": {},
     "output_type": "execute_result"
    }
   ],
   "source": [
    "housing_df.dtypes"
   ]
  },
  {
   "cell_type": "code",
   "execution_count": 6,
   "id": "db7346f0-3791-42f2-a9e7-8fa2dbac078c",
   "metadata": {
    "scrolled": true
   },
   "outputs": [
    {
     "data": {
      "text/plain": [
       "(545, 13)"
      ]
     },
     "execution_count": 6,
     "metadata": {},
     "output_type": "execute_result"
    }
   ],
   "source": [
    "housing_df.shape"
   ]
  },
  {
   "cell_type": "markdown",
   "id": "762e2758-520c-412a-bf7f-36cd920d8570",
   "metadata": {},
   "source": [
    "Rewriting dataframes so that types are compatbile with numpy and torch"
   ]
  },
  {
   "cell_type": "code",
   "execution_count": 7,
   "id": "9192a45e-54e3-4056-9c1f-87fc31f37fa6",
   "metadata": {},
   "outputs": [],
   "source": [
    "housing_df['price'] = housing_df['price'].astype(np.float32)\n",
    "housing_df['area'] = housing_df['area'].astype(np.float32)\n",
    "housing_df['bedrooms'] = housing_df['bedrooms'].astype(np.float32)\n",
    "housing_df['bathrooms'] = housing_df['bathrooms'].astype(np.float32)\n",
    "housing_df['stories'] = housing_df['stories'].astype(np.float32)\n",
    "housing_df['parking'] = housing_df['parking'].astype(np.float32)"
   ]
  },
  {
   "cell_type": "code",
   "execution_count": 8,
   "id": "794881a4-b562-4070-88fd-d534f5658dd0",
   "metadata": {},
   "outputs": [],
   "source": [
    "mapping_fun = {'no': -1.0, 'yes': 1.0}\n",
    "\n",
    "housing_df['mainroad'] = housing_df['mainroad'].map(mapping_fun).astype(np.float32)\n",
    "housing_df['guestroom'] = housing_df['guestroom'].map(mapping_fun).astype(np.float32)\n",
    "housing_df['basement'] = housing_df['basement'].map(mapping_fun).astype(np.float32)\n",
    "housing_df['hotwaterheating'] = housing_df['hotwaterheating'].map(mapping_fun).astype(np.float32)\n",
    "housing_df['airconditioning'] = housing_df['airconditioning'].map(mapping_fun).astype(np.float32)\n",
    "housing_df['prefarea'] = housing_df['prefarea'].map(mapping_fun).astype(np.float32)"
   ]
  },
  {
   "cell_type": "code",
   "execution_count": 9,
   "id": "ebc80db9-1507-4fb0-9cbb-aa0640f50ab0",
   "metadata": {},
   "outputs": [],
   "source": [
    "mapping_furnishing_fun = {'unfurnished': -1.0, 'semi-furnished': 0.0, 'furnished': 1.0}\n",
    "\n",
    "housing_df['furnishingstatus'] = housing_df['furnishingstatus'].map(mapping_furnishing_fun).astype(np.float32)"
   ]
  },
  {
   "cell_type": "code",
   "execution_count": 10,
   "id": "b01098ed-842a-4616-a9fb-6106a7ba7883",
   "metadata": {},
   "outputs": [
    {
     "data": {
      "text/html": [
       "<div>\n",
       "<style scoped>\n",
       "    .dataframe tbody tr th:only-of-type {\n",
       "        vertical-align: middle;\n",
       "    }\n",
       "\n",
       "    .dataframe tbody tr th {\n",
       "        vertical-align: top;\n",
       "    }\n",
       "\n",
       "    .dataframe thead th {\n",
       "        text-align: right;\n",
       "    }\n",
       "</style>\n",
       "<table border=\"1\" class=\"dataframe\">\n",
       "  <thead>\n",
       "    <tr style=\"text-align: right;\">\n",
       "      <th></th>\n",
       "      <th>price</th>\n",
       "      <th>area</th>\n",
       "      <th>bedrooms</th>\n",
       "      <th>bathrooms</th>\n",
       "      <th>stories</th>\n",
       "      <th>mainroad</th>\n",
       "      <th>guestroom</th>\n",
       "      <th>basement</th>\n",
       "      <th>hotwaterheating</th>\n",
       "      <th>airconditioning</th>\n",
       "      <th>parking</th>\n",
       "      <th>prefarea</th>\n",
       "      <th>furnishingstatus</th>\n",
       "    </tr>\n",
       "  </thead>\n",
       "  <tbody>\n",
       "    <tr>\n",
       "      <th>0</th>\n",
       "      <td>13300000.0</td>\n",
       "      <td>7420.0</td>\n",
       "      <td>4.0</td>\n",
       "      <td>2.0</td>\n",
       "      <td>3.0</td>\n",
       "      <td>1.0</td>\n",
       "      <td>-1.0</td>\n",
       "      <td>-1.0</td>\n",
       "      <td>-1.0</td>\n",
       "      <td>1.0</td>\n",
       "      <td>2.0</td>\n",
       "      <td>1.0</td>\n",
       "      <td>1.0</td>\n",
       "    </tr>\n",
       "    <tr>\n",
       "      <th>1</th>\n",
       "      <td>12250000.0</td>\n",
       "      <td>8960.0</td>\n",
       "      <td>4.0</td>\n",
       "      <td>4.0</td>\n",
       "      <td>4.0</td>\n",
       "      <td>1.0</td>\n",
       "      <td>-1.0</td>\n",
       "      <td>-1.0</td>\n",
       "      <td>-1.0</td>\n",
       "      <td>1.0</td>\n",
       "      <td>3.0</td>\n",
       "      <td>-1.0</td>\n",
       "      <td>1.0</td>\n",
       "    </tr>\n",
       "    <tr>\n",
       "      <th>2</th>\n",
       "      <td>12250000.0</td>\n",
       "      <td>9960.0</td>\n",
       "      <td>3.0</td>\n",
       "      <td>2.0</td>\n",
       "      <td>2.0</td>\n",
       "      <td>1.0</td>\n",
       "      <td>-1.0</td>\n",
       "      <td>1.0</td>\n",
       "      <td>-1.0</td>\n",
       "      <td>-1.0</td>\n",
       "      <td>2.0</td>\n",
       "      <td>1.0</td>\n",
       "      <td>0.0</td>\n",
       "    </tr>\n",
       "    <tr>\n",
       "      <th>3</th>\n",
       "      <td>12215000.0</td>\n",
       "      <td>7500.0</td>\n",
       "      <td>4.0</td>\n",
       "      <td>2.0</td>\n",
       "      <td>2.0</td>\n",
       "      <td>1.0</td>\n",
       "      <td>-1.0</td>\n",
       "      <td>1.0</td>\n",
       "      <td>-1.0</td>\n",
       "      <td>1.0</td>\n",
       "      <td>3.0</td>\n",
       "      <td>1.0</td>\n",
       "      <td>1.0</td>\n",
       "    </tr>\n",
       "    <tr>\n",
       "      <th>4</th>\n",
       "      <td>11410000.0</td>\n",
       "      <td>7420.0</td>\n",
       "      <td>4.0</td>\n",
       "      <td>1.0</td>\n",
       "      <td>2.0</td>\n",
       "      <td>1.0</td>\n",
       "      <td>1.0</td>\n",
       "      <td>1.0</td>\n",
       "      <td>-1.0</td>\n",
       "      <td>1.0</td>\n",
       "      <td>2.0</td>\n",
       "      <td>-1.0</td>\n",
       "      <td>1.0</td>\n",
       "    </tr>\n",
       "  </tbody>\n",
       "</table>\n",
       "</div>"
      ],
      "text/plain": [
       "        price    area  bedrooms  bathrooms  stories  mainroad  guestroom  \\\n",
       "0  13300000.0  7420.0       4.0        2.0      3.0       1.0       -1.0   \n",
       "1  12250000.0  8960.0       4.0        4.0      4.0       1.0       -1.0   \n",
       "2  12250000.0  9960.0       3.0        2.0      2.0       1.0       -1.0   \n",
       "3  12215000.0  7500.0       4.0        2.0      2.0       1.0       -1.0   \n",
       "4  11410000.0  7420.0       4.0        1.0      2.0       1.0        1.0   \n",
       "\n",
       "   basement  hotwaterheating  airconditioning  parking  prefarea  \\\n",
       "0      -1.0             -1.0              1.0      2.0       1.0   \n",
       "1      -1.0             -1.0              1.0      3.0      -1.0   \n",
       "2       1.0             -1.0             -1.0      2.0       1.0   \n",
       "3       1.0             -1.0              1.0      3.0       1.0   \n",
       "4       1.0             -1.0              1.0      2.0      -1.0   \n",
       "\n",
       "   furnishingstatus  \n",
       "0               1.0  \n",
       "1               1.0  \n",
       "2               0.0  \n",
       "3               1.0  \n",
       "4               1.0  "
      ]
     },
     "execution_count": 10,
     "metadata": {},
     "output_type": "execute_result"
    }
   ],
   "source": [
    "housing_df.head(5)"
   ]
  },
  {
   "cell_type": "code",
   "execution_count": 11,
   "id": "20565f77-9c40-42dd-a91f-e74f53b639b5",
   "metadata": {},
   "outputs": [
    {
     "data": {
      "text/plain": [
       "price               float32\n",
       "area                float32\n",
       "bedrooms            float32\n",
       "bathrooms           float32\n",
       "stories             float32\n",
       "mainroad            float32\n",
       "guestroom           float32\n",
       "basement            float32\n",
       "hotwaterheating     float32\n",
       "airconditioning     float32\n",
       "parking             float32\n",
       "prefarea            float32\n",
       "furnishingstatus    float32\n",
       "dtype: object"
      ]
     },
     "execution_count": 11,
     "metadata": {},
     "output_type": "execute_result"
    }
   ],
   "source": [
    "housing_df.dtypes"
   ]
  },
  {
   "cell_type": "code",
   "execution_count": 12,
   "id": "9db299ee-783d-4164-b5b8-afe6da57ff76",
   "metadata": {
    "scrolled": true
   },
   "outputs": [
    {
     "data": {
      "text/plain": [
       "(545, 13)"
      ]
     },
     "execution_count": 12,
     "metadata": {},
     "output_type": "execute_result"
    }
   ],
   "source": [
    "housing_df.shape"
   ]
  },
  {
   "cell_type": "markdown",
   "id": "9eb5bc4f-a767-4a0c-9ba2-5a1381c9ead1",
   "metadata": {},
   "source": [
    "Split data into test and train datasets"
   ]
  },
  {
   "cell_type": "code",
   "execution_count": 13,
   "id": "700104c7-a35c-4a36-a111-6ad80a2515fc",
   "metadata": {},
   "outputs": [],
   "source": [
    "X_train_raw_df, X_test_raw_df, y_train_df, y_test_df = train_test_split(housing_df.drop('price', axis=1), housing_df['price'], train_size=0.7, shuffle=True)"
   ]
  },
  {
   "cell_type": "markdown",
   "id": "6cee26e1-718e-41c0-9938-9461d6749ea0",
   "metadata": {},
   "source": [
    "Standardize the data"
   ]
  },
  {
   "cell_type": "code",
   "execution_count": 14,
   "id": "dfc7185b-ed1a-435e-8524-0a1bdcb99019",
   "metadata": {},
   "outputs": [],
   "source": [
    "std_scaler = StandardScaler()\n",
    "std_scaler.fit(X_train_raw_df)\n",
    "\n",
    "X_train_df = std_scaler.transform(X_train_raw_df)\n",
    "X_test_df = std_scaler.transform(X_test_raw_df)"
   ]
  },
  {
   "cell_type": "markdown",
   "id": "475062b8-220a-4971-b686-cd0acedf1386",
   "metadata": {},
   "source": [
    "## Model preparation"
   ]
  },
  {
   "cell_type": "code",
   "execution_count": 15,
   "id": "df477fb5-6f19-45d4-9570-ef7d7a0cf263",
   "metadata": {},
   "outputs": [
    {
     "data": {
      "text/plain": [
       "Sequential(\n",
       "  (0): Linear(in_features=12, out_features=32, bias=True)\n",
       "  (1): ReLU()\n",
       "  (2): Linear(in_features=32, out_features=24, bias=True)\n",
       "  (3): ReLU()\n",
       "  (4): Linear(in_features=24, out_features=16, bias=True)\n",
       "  (5): ReLU()\n",
       "  (6): Linear(in_features=16, out_features=8, bias=True)\n",
       "  (7): ReLU()\n",
       "  (8): Linear(in_features=8, out_features=1, bias=True)\n",
       ")"
      ]
     },
     "execution_count": 15,
     "metadata": {},
     "output_type": "execute_result"
    }
   ],
   "source": [
    "model = nn.Sequential(\n",
    "    nn.Linear(12, 32),\n",
    "    nn.ReLU(),\n",
    "    nn.Linear(32, 24),\n",
    "    nn.ReLU(),\n",
    "    nn.Linear(24, 16),\n",
    "    nn.ReLU(),\n",
    "    nn.Linear(16, 8),\n",
    "    nn.ReLU(),\n",
    "    nn.Linear(8, 1)\n",
    ")\n",
    "\n",
    "model.to(device)"
   ]
  },
  {
   "cell_type": "markdown",
   "id": "8d5d39fc-e3db-4df2-8c53-4a684894ea48",
   "metadata": {},
   "source": [
    "Loss function and optimizer"
   ]
  },
  {
   "cell_type": "code",
   "execution_count": 16,
   "id": "5755a6dd-ebf0-43f6-9040-bc52b9afe070",
   "metadata": {},
   "outputs": [],
   "source": [
    "loss_fn = nn.MSELoss()  # mean square error\n",
    "optimizer = optim.Adam(model.parameters(), lr=0.0001)"
   ]
  },
  {
   "cell_type": "markdown",
   "id": "7d2d64cc-8beb-4156-99e8-3422bf249fe0",
   "metadata": {},
   "source": [
    "Build tensors"
   ]
  },
  {
   "cell_type": "code",
   "execution_count": 17,
   "id": "754188e5-734a-4546-9f1d-f76f47ad6e39",
   "metadata": {},
   "outputs": [],
   "source": [
    "X_train_tensor = torch.tensor(X_train_df, device=device)\n",
    "y_train_tensor = torch.tensor(y_train_df.values, device=device).reshape(-1, 1)\n",
    "X_test_tensor = torch.tensor(X_test_df, device=device)\n",
    "y_test_tensor = torch.tensor(y_test_df.values, device=device).reshape(-1, 1)"
   ]
  },
  {
   "cell_type": "markdown",
   "id": "962a4deb-2cb5-40bb-967f-d1975d8fee38",
   "metadata": {},
   "source": [
    "## Model training"
   ]
  },
  {
   "cell_type": "code",
   "execution_count": 18,
   "id": "caeb25f1-a88f-44b9-8dc3-df32a0d9ca88",
   "metadata": {},
   "outputs": [],
   "source": [
    "n_epochs = 10_000   # number of epochs to run\n",
    "batch_size = 32  # size of each batch\n",
    "batch_start = torch.arange(0, len(X_train_tensor), batch_size)"
   ]
  },
  {
   "cell_type": "markdown",
   "id": "3f18dcb9-b8e3-4ca6-9a73-9b607372b27b",
   "metadata": {},
   "source": [
    "Remember the best model"
   ]
  },
  {
   "cell_type": "code",
   "execution_count": 19,
   "id": "690c5f67-0b60-4122-b44b-d1d7c425c3ce",
   "metadata": {},
   "outputs": [],
   "source": [
    "best_mse = np.inf   # init to infinity\n",
    "best_weights = None\n",
    "history = []"
   ]
  },
  {
   "cell_type": "markdown",
   "id": "12f4bcc1-cef5-4c40-9f8d-cd9c6e7b61ac",
   "metadata": {},
   "source": [
    "Training loop"
   ]
  },
  {
   "cell_type": "code",
   "execution_count": 20,
   "id": "b23e9bec-fc3a-463c-86f7-0118cdd0945c",
   "metadata": {},
   "outputs": [],
   "source": [
    "for epoch in range(n_epochs):\n",
    "    model.train()\n",
    "    with tqdm.tqdm(batch_start, unit=\"batch\", mininterval=0, disable=True) as bar:\n",
    "        bar.set_description(f\"Epoch {epoch}\")\n",
    "        for start in bar:\n",
    "            # take a batch\n",
    "            X_batch = X_train_tensor[start:start+batch_size]\n",
    "            y_batch = y_train_tensor[start:start+batch_size]\n",
    "            # forward pass\n",
    "            y_pred = model(X_batch)\n",
    "            loss = loss_fn(y_pred, y_batch)\n",
    "            # backward pass\n",
    "            optimizer.zero_grad()\n",
    "            loss.backward()\n",
    "            # update weights\n",
    "            optimizer.step()\n",
    "            # print progress\n",
    "            bar.set_postfix(mse=float(loss))\n",
    "    # evaluate accuracy at end of each epoch\n",
    "    model.eval()\n",
    "    y_pred = model(X_test_tensor)\n",
    "    mse = loss_fn(y_pred, y_test_tensor)\n",
    "    mse = float(mse)\n",
    "    history.append(mse)\n",
    "    if mse < best_mse:\n",
    "        best_mse = mse\n",
    "        best_weights = copy.deepcopy(model.state_dict())"
   ]
  },
  {
   "cell_type": "code",
   "execution_count": 21,
   "id": "a37cead4-ad75-4052-b844-3d9f5ad89e62",
   "metadata": {},
   "outputs": [
    {
     "name": "stdout",
     "output_type": "stream",
     "text": [
      "MSE: 1319274283008.00\n",
      "RMSE: 1148596.66\n"
     ]
    },
    {
     "data": {
      "image/png": "[encoded data removed]",
      "text/plain": [
       "<Figure size 640x480 with 1 Axes>"
      ]
     },
     "metadata": {},
     "output_type": "display_data"
    }
   ],
   "source": [
    "model.load_state_dict(best_weights)\n",
    "\n",
    "print(\"MSE: %.2f\" % best_mse)\n",
    "print(\"RMSE: %.2f\" % np.sqrt(best_mse))\n",
    "plt.plot(history)\n",
    "plt.yscale('log')\n",
    "plt.show()"
   ]
  },
  {
   "cell_type": "markdown",
   "id": "dca25c72-5665-4276-9d74-1082f4c4fd53",
   "metadata": {},
   "source": [
    "## Save results"
   ]
  },
  {
   "cell_type": "code",
   "execution_count": 22,
   "id": "dc67f3db-86dd-42d3-ade2-c09537852582",
   "metadata": {},
   "outputs": [],
   "source": [
    "torch.save(model, './model/model.pt')"
   ]
  },
  {
   "cell_type": "markdown",
   "id": "7f458b3c-d815-4d7f-826a-6ff5a84b0753",
   "metadata": {},
   "source": [
    "I also have to save the `StandardScaler` in order to apply the same transformation for new data"
   ]
  },
  {
   "cell_type": "code",
   "execution_count": 23,
   "id": "64fe01a4-08c0-494a-96dc-aa870e4d18b3",
   "metadata": {},
   "outputs": [],
   "source": [
    "with open(\"./model/std_scaler.pickle\",\"wb\") as file:\n",
    "    pickle.dump(std_scaler, file)"
   ]
  },
  {
   "cell_type": "markdown",
   "id": "31a6e135-ea6a-49e2-b2c8-ea1ec05ba99d",
   "metadata": {},
   "source": [
    "## Save test data"
   ]
  },
  {
   "cell_type": "code",
   "execution_count": 24,
   "id": "f45cefee-05e7-421c-846d-6e314b08e17c",
   "metadata": {},
   "outputs": [],
   "source": [
    "with open(\"./data/X_test_raw_df.pickle\",\"wb\") as file:\n",
    "    pickle.dump(X_test_raw_df, file)\n",
    "\n",
    "with open(\"./data/y_test_df.pickle\",\"wb\") as file:\n",
    "    pickle.dump(X_test_raw_df, file)"
   ]
  }
 ],
 "metadata": {
  "kernelspec": {
   "display_name": "Python 3 (ipykernel)",
   "language": "python",
   "name": "python3"
  },
  "language_info": {
   "codemirror_mode": {
    "name": "ipython",
    "version": 3
   },
   "file_extension": ".py",
   "mimetype": "text/x-python",
   "name": "python",
   "nbconvert_exporter": "python",
   "pygments_lexer": "ipython3",
   "version": "3.11.8"
  }
 },
 "nbformat": 4,
 "nbformat_minor": 5
}
