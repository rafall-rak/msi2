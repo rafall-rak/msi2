{
 "cells": [
  {
   "metadata": {},
   "cell_type": "code",
   "source": [
    "import matplotlib.pyplot as plt\n",
    "import numpy as np\n",
    "from sklearn import datasets\n"
   ],
   "id": "178121763911fe50",
   "outputs": [],
   "execution_count": null
  },
  {
   "metadata": {},
   "cell_type": "markdown",
   "source": "Load the iris dataset",
   "id": "ce4fc0cb08523b5d"
  },
  {
   "metadata": {},
   "cell_type": "code",
   "source": [
    "df = datasets.load_iris()\n",
    "X = df.data[0:100, [0, 2]]  # extract sepal length and petal length\n",
    "y = df.target[0:100]  # 'Iris-setosa'=0, 'Iris-versicolor'=1"
   ],
   "id": "663d4310008b748d",
   "outputs": [],
   "execution_count": null
  },
  {
   "metadata": {},
   "cell_type": "markdown",
   "source": "Plot the data",
   "id": "78744470de6750c"
  },
  {
   "metadata": {},
   "cell_type": "code",
   "source": [
    "plt.scatter(X[:50, 0], X[:50, 1],\n",
    "            color='red', marker='o', label='Setosa')\n",
    "plt.scatter(X[50:100, 0], X[50:100, 1],\n",
    "            color='blue', marker='s', label='Versicolor')\n",
    "\n",
    "plt.xlabel('Sepal length [cm]')\n",
    "plt.ylabel('Petal length [cm]')\n",
    "plt.legend(loc='upper left')\n",
    "\n",
    "plt.show()"
   ],
   "id": "3154b232044e94d9",
   "outputs": [],
   "execution_count": null
  },
  {
   "metadata": {},
   "cell_type": "markdown",
   "source": "OO-based Perceptron",
   "id": "719eb90ef7340b62"
  },
  {
   "metadata": {},
   "cell_type": "code",
   "source": [
    "from helpers import Classifier\n",
    "\n",
    "\n",
    "class Perceptron(Classifier):\n",
    "\n",
    "    def __init__(self, eta=0.01, n_iter=50, random_state=1):\n",
    "        self.eta = eta\n",
    "        self.n_iter = n_iter\n",
    "        self.random_state = random_state\n",
    "\n",
    "        # to be initialized in the fit method\n",
    "        self.w_ = None\n",
    "        self.b_ = None\n",
    "        self.errors_ = None\n",
    "\n",
    "    def fit(self, X, y):\n",
    "\n",
    "        rgen = np.random.RandomState(self.random_state)\n",
    "        self.w_ = rgen.normal(loc=0.0, scale=0.01, size=X.shape[1])\n",
    "        self.b_ = np.float64(0.)\n",
    "\n",
    "        self.errors_ = []\n",
    "\n",
    "        for _ in range(self.n_iter):\n",
    "            errors = 0\n",
    "            for xi, target in zip(X, y):\n",
    "                update = self.eta * (target - self.predict(xi))\n",
    "                self.w_ += update * xi\n",
    "                self.b_ += update\n",
    "                errors += int(update != 0.0)\n",
    "            self.errors_.append(errors)\n",
    "\n",
    "        return self\n",
    "\n",
    "    def net_input(self, x):\n",
    "        return np.dot(x, self.w_) + self.b_\n",
    "\n",
    "    def predict(self, x):\n",
    "        return np.where(self.net_input(x) >= 0.0, 1, 0)"
   ],
   "id": "2b4d9f1a4f675730",
   "outputs": [],
   "execution_count": null
  },
  {
   "metadata": {},
   "cell_type": "markdown",
   "source": "Training the perceptron (model)",
   "id": "1eebbb69fee4e57"
  },
  {
   "metadata": {},
   "cell_type": "code",
   "source": [
    "ppn = Perceptron(eta=0.1, n_iter=10)\n",
    "\n",
    "ppn.fit(X, y);"
   ],
   "id": "a3fa93f033e78cd7",
   "outputs": [],
   "execution_count": null
  },
  {
   "metadata": {},
   "cell_type": "markdown",
   "source": "Training/learning process visualisation",
   "id": "7b1fa1874a079f32"
  },
  {
   "metadata": {},
   "cell_type": "code",
   "source": [
    "plt.plot(range(1, len(ppn.errors_) + 1), ppn.errors_, marker='o')\n",
    "plt.xlabel('Epochs')\n",
    "plt.ylabel('Number of updates')\n",
    "\n",
    "# plt.savefig('images/02_07.png', dpi=300)\n",
    "plt.show()"
   ],
   "id": "cd8487ce0002fa18",
   "outputs": [],
   "execution_count": null
  },
  {
   "metadata": {},
   "cell_type": "code",
   "source": "from helpers import plot_decision_regions",
   "id": "f71df69c07581d8a",
   "outputs": [],
   "execution_count": null
  },
  {
   "metadata": {},
   "cell_type": "code",
   "source": [
    "plot_decision_regions(X, y, clf=ppn)\n",
    "plt.xlabel('Sepal length [cm]')\n",
    "plt.ylabel('Petal length [cm]')\n",
    "plt.legend(loc='upper left')\n",
    "\n",
    "plt.show()"
   ],
   "id": "14f58ec15357cfba",
   "outputs": [],
   "execution_count": null
  }
 ],
 "metadata": {
  "kernelspec": {
   "display_name": "Python 3",
   "language": "python",
   "name": "python3"
  },
  "language_info": {
   "codemirror_mode": {
    "name": "ipython",
    "version": 2
   },
   "file_extension": ".py",
   "mimetype": "text/x-python",
   "name": "python",
   "nbconvert_exporter": "python",
   "pygments_lexer": "ipython2",
   "version": "2.7.6"
  }
 },
 "nbformat": 4,
 "nbformat_minor": 5
}
